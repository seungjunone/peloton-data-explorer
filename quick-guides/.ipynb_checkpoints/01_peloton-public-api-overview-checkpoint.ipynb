{
 "cells": [
  {
   "cell_type": "markdown",
   "id": "4e4ffd88-1768-4f92-9721-a06b60d331cb",
   "metadata": {},
   "source": [
    "# Peloton API Walkthrough"
   ]
  },
  {
   "cell_type": "markdown",
   "id": "ca37180b-4948-4d3f-95ef-66f91ec4d810",
   "metadata": {},
   "source": [
    "While there isn't an official Peloton API documentation, Peloton communities have shared their own pagckages (e.g. peloton-client-library, pelotonR) and documentations (peloton-unofficial-api).\n",
    "\n",
    "These resources are somewhat dated, so I've opted to dig into raw outputs from API calls using `request` package."
   ]
  },
  {
   "cell_type": "code",
   "execution_count": 1,
   "id": "f582937d-cfc0-414f-b5a3-651ae229076d",
   "metadata": {
    "executionCancelledAt": null,
    "executionTime": 1651,
    "lastExecutedAt": 1738426494130,
    "lastExecutedByKernel": "3b858a18-993e-4fff-a13f-7b5c7d819b79",
    "lastScheduledRunId": null,
    "lastSuccessfullyExecutedCode": "import requests\nimport json\nimport pandas as pd\nimport os"
   },
   "outputs": [],
   "source": [
    "import requests\n",
    "import json\n",
    "import pandas as pd\n",
    "import os"
   ]
  },
  {
   "cell_type": "markdown",
   "id": "60360f6d-d545-4d15-a70c-c06ebe8e262b",
   "metadata": {},
   "source": [
    "## Step 1. Authenticate\n",
    "\n",
    "To access the Peloton API, you'll need to authenticate using your user ID and password. The endpoint for authentication is https://api.onepeloton.com/auth/login/.\n",
    "\n",
    "Here's how to authenticate:\n",
    "\n",
    "* Prepare the request: Create a JSON object with your user ID and password.\n",
    "* Make the request: Use the requests library to send a POST request to the authentication endpoint with the user credentials.\n",
    "* Check the response: The response will be a JSON object that contains an user_id (access token) if the authentication was successful. You can use this access token to authorize future requests to the Peloton API.\n",
    "\n"
   ]
  },
  {
   "cell_type": "code",
   "execution_count": 2,
   "id": "c236b9c9-af76-4c45-a42f-6424df852675",
   "metadata": {
    "executionCancelledAt": null,
    "executionTime": 188,
    "lastExecutedAt": 1738426496287,
    "lastExecutedByKernel": "3b858a18-993e-4fff-a13f-7b5c7d819b79",
    "lastScheduledRunId": null,
    "lastSuccessfullyExecutedCode": "peloton_username = os.environ.get('peloton_user_name') \npeloton_password = os.environ.get('peloton_password')\n\napi_base_url = 'https://api.onepeloton.com'\npath_auth = '/auth/login'\n\nparams_auth_query = {'username_or_email': peloton_username, 'password': peloton_password}\n\ns = requests.Session()\nresponse = s.post(api_base_url + path_auth, json = params_auth_query)\n\nuserID = json.loads(response.text)['user_id']"
   },
   "outputs": [],
   "source": [
    "peloton_username = os.environ.get('peloton_user_name') \n",
    "peloton_password = os.environ.get('peloton_password')\n",
    "\n",
    "api_base_url = 'https://api.onepeloton.com'\n",
    "path_auth = '/auth/login'\n",
    "\n",
    "params_auth_query = {'username_or_email': peloton_username, 'password': peloton_password}\n",
    "\n",
    "s = requests.Session()\n",
    "response = s.post(api_base_url + path_auth, json = params_auth_query)\n",
    "\n",
    "userID = json.loads(response.text)['user_id']"
   ]
  },
  {
   "cell_type": "markdown",
   "id": "dc6e2b61-246a-4862-b440-44fd873723ff",
   "metadata": {},
   "source": [
    "Your user_name, password, and access token are sensitive information. Do not share them publicly, and always use best practices in storing credentials. I am using environment variable to store and access the credentials."
   ]
  },
  {
   "cell_type": "markdown",
   "id": "0ab247d0-8c6b-4cda-8a60-e1a38213f15b",
   "metadata": {},
   "source": [
    "## Step 2. Data Extraction\n",
    "\n",
    "Now that you have an access token, let's start exploring the Peloton API. \n",
    "\n",
    "A great place to begin is the /api/user/{user_ID}/overview endpoint. This endpoint provides an overview of your workout history, including the total number of workouts by type, earned achievements, and personal records.\n",
    "\n",
    "Here's how to use the /api/user/{user_ID}/overview endpoint:\n",
    "\n",
    "* Construct the URL: Replace {user_ID} with your actual Peloton user ID in the URL.\n",
    "* Make the request: Use the requests library to send a GET request to the endpoint, including the access token in the Authorization header."
   ]
  },
  {
   "cell_type": "code",
   "execution_count": 3,
   "id": "7026f5f1-2af3-49ba-a2bc-1e9a1de81945",
   "metadata": {
    "executionCancelledAt": null,
    "executionTime": 327,
    "lastExecutedAt": 1738426498865,
    "lastExecutedByKernel": "3b858a18-993e-4fff-a13f-7b5c7d819b79",
    "lastScheduledRunId": null,
    "lastSuccessfullyExecutedCode": "path_user_overview = f'/api/user/{userID}/overview'\nheaders = {\n    'Peloton-Platform': 'web'\n}\n\nresponse = s.get(api_base_url + path_user_overview, headers = headers)"
   },
   "outputs": [],
   "source": [
    "path_user_overview = f'/api/user/{userID}/overview'\n",
    "headers = {\n",
    "    'Peloton-Platform': 'web'\n",
    "}\n",
    "\n",
    "response = s.get(api_base_url + path_user_overview, headers = headers)"
   ]
  },
  {
   "cell_type": "markdown",
   "id": "8af5466b-d140-4716-94d1-bdd2642182e6",
   "metadata": {},
   "source": [
    "Explore the response: The API will return a JSON response containing information about your overall workout history."
   ]
  },
  {
   "cell_type": "code",
   "execution_count": 4,
   "id": "4ac2e370-a4c0-4c78-9490-eeaff81576f8",
   "metadata": {
    "executionCancelledAt": null,
    "executionTime": 13,
    "lastExecutedAt": 1738426499940,
    "lastExecutedByKernel": "3b858a18-993e-4fff-a13f-7b5c7d819b79",
    "lastScheduledRunId": null,
    "lastSuccessfullyExecutedCode": "response_json = json.loads(response.text)\nresponse_json.keys()"
   },
   "outputs": [
    {
     "data": {
      "text/plain": [
       "dict_keys(['id', 'workout_counts', 'personal_records', 'streaks', 'achievement_counts'])"
      ]
     },
     "execution_count": 4,
     "metadata": {},
     "output_type": "execute_result"
    }
   ],
   "source": [
    "response_json = json.loads(response.text)\n",
    "response_json.keys()"
   ]
  },
  {
   "cell_type": "markdown",
   "id": "bea1c605-7953-4d5a-8231-97a36202d76a",
   "metadata": {},
   "source": [
    "From top structure, we can see that this includes data like:\n",
    "\n",
    "* `Total Workout Counts`: A breakdown of the total number of workouts you've completed across different disciplines (e.g., cycling, strength, yoga). See which categories dominate your fitness routine!\n",
    "* `Personal Records`: This section reveals your personal records (PRs) for each workout type. (Note: PRs are only available if the workout was completed on a Peloton device, so my data focuses solely on cycling.)\n",
    "* `Streaks`: Discover your dedication! This section highlights your daily and weekly workout streaks, showcasing your commitment to consistent exercise.\n",
    "* `Achievements`: Ever wonder how many times you've snagged that 7-day streak badge? This section reveals all your hard-earned Peloton achievements, complete with descriptions, image URLs, and the number of times you've unlocked each one.\n",
    "\n",
    "To make this data easier to analyze, we'll need to transform it into a more structured format. This involves:\n",
    "\n",
    "* Converting to Tabular Format: We'll convert the JSON response into a tabular format, like a dataframe, which is ideal for analysis and manipulation.\n",
    "* Data Type Coercion: We'll ensure that data entries are in the correct format. For example, we'll convert string representations of dates and times into datetime objects for easier manipulation and analysis.\n",
    "\n",
    "For example, to flatten and show achievement info in tabular format, we first convert it to dataframe, and unnest the template entries.\n",
    "\n"
   ]
  },
  {
   "cell_type": "code",
   "execution_count": 5,
   "id": "b938cf37-5a0b-4ca9-9fde-607060f485d9",
   "metadata": {
    "executionCancelledAt": null,
    "executionTime": 24,
    "lastExecutedAt": 1738426502542,
    "lastExecutedByKernel": "3b858a18-993e-4fff-a13f-7b5c7d819b79",
    "lastScheduledRunId": null,
    "lastSuccessfullyExecutedCode": "df_workout_counts = pd.DataFrame(response_json['workout_counts']['workouts'])\ndf_workout_counts",
    "outputsMetadata": {
     "0": {
      "height": 50,
      "tableState": {
       "customFilter": {
        "const": {
         "type": "boolean",
         "valid": true,
         "value": true
        },
        "id": "7189f75b-ecf0-4125-863a-7bc875b726b8",
        "nodeType": "const"
       },
       "quickFilterText": ""
      },
      "type": "dataFrame"
     }
    }
   },
   "outputs": [
    {
     "data": {
      "text/html": [
       "<div>\n",
       "<style scoped>\n",
       "    .dataframe tbody tr th:only-of-type {\n",
       "        vertical-align: middle;\n",
       "    }\n",
       "\n",
       "    .dataframe tbody tr th {\n",
       "        vertical-align: top;\n",
       "    }\n",
       "\n",
       "    .dataframe thead th {\n",
       "        text-align: right;\n",
       "    }\n",
       "</style>\n",
       "<table border=\"1\" class=\"dataframe\">\n",
       "  <thead>\n",
       "    <tr style=\"text-align: right;\">\n",
       "      <th></th>\n",
       "      <th>name</th>\n",
       "      <th>slug</th>\n",
       "      <th>count</th>\n",
       "      <th>icon_url</th>\n",
       "      <th>workout_name</th>\n",
       "    </tr>\n",
       "  </thead>\n",
       "  <tbody>\n",
       "    <tr>\n",
       "      <th>0</th>\n",
       "      <td>Cycling</td>\n",
       "      <td>cycling</td>\n",
       "      <td>749</td>\n",
       "      <td>https://s3.amazonaws.com/static-cdn.pelotoncyc...</td>\n",
       "      <td>Cycling</td>\n",
       "    </tr>\n",
       "    <tr>\n",
       "      <th>1</th>\n",
       "      <td>Stretching</td>\n",
       "      <td>stretching</td>\n",
       "      <td>473</td>\n",
       "      <td>https://s3.amazonaws.com/static-cdn.pelotoncyc...</td>\n",
       "      <td>Stretching</td>\n",
       "    </tr>\n",
       "    <tr>\n",
       "      <th>2</th>\n",
       "      <td>Strength</td>\n",
       "      <td>strength</td>\n",
       "      <td>394</td>\n",
       "      <td>https://s3.amazonaws.com/static-cdn.pelotoncyc...</td>\n",
       "      <td>Strength</td>\n",
       "    </tr>\n",
       "    <tr>\n",
       "      <th>3</th>\n",
       "      <td>Walking</td>\n",
       "      <td>walking</td>\n",
       "      <td>66</td>\n",
       "      <td>https://s3.amazonaws.com/static-cdn.pelotoncyc...</td>\n",
       "      <td>Walking</td>\n",
       "    </tr>\n",
       "    <tr>\n",
       "      <th>4</th>\n",
       "      <td>Rowing</td>\n",
       "      <td>caesar</td>\n",
       "      <td>31</td>\n",
       "      <td>https://s3.amazonaws.com/static-cdn.pelotoncyc...</td>\n",
       "      <td>Rowing</td>\n",
       "    </tr>\n",
       "    <tr>\n",
       "      <th>5</th>\n",
       "      <td>Meditation</td>\n",
       "      <td>meditation</td>\n",
       "      <td>23</td>\n",
       "      <td>https://s3.amazonaws.com/static-cdn.pelotoncyc...</td>\n",
       "      <td>Meditation</td>\n",
       "    </tr>\n",
       "    <tr>\n",
       "      <th>6</th>\n",
       "      <td>Cardio</td>\n",
       "      <td>cardio</td>\n",
       "      <td>17</td>\n",
       "      <td>https://s3.amazonaws.com/static-cdn.pelotoncyc...</td>\n",
       "      <td>Cardio</td>\n",
       "    </tr>\n",
       "    <tr>\n",
       "      <th>7</th>\n",
       "      <td>Running</td>\n",
       "      <td>running</td>\n",
       "      <td>10</td>\n",
       "      <td>https://s3.amazonaws.com/static-cdn.pelotoncyc...</td>\n",
       "      <td>Running</td>\n",
       "    </tr>\n",
       "    <tr>\n",
       "      <th>8</th>\n",
       "      <td>Bike Bootcamp</td>\n",
       "      <td>bike_bootcamp</td>\n",
       "      <td>1</td>\n",
       "      <td>https://s3.amazonaws.com/static-cdn.pelotoncyc...</td>\n",
       "      <td>Bike Bootcamp</td>\n",
       "    </tr>\n",
       "    <tr>\n",
       "      <th>9</th>\n",
       "      <td>Yoga</td>\n",
       "      <td>yoga</td>\n",
       "      <td>1</td>\n",
       "      <td>https://s3.amazonaws.com/static-cdn.pelotoncyc...</td>\n",
       "      <td>Yoga</td>\n",
       "    </tr>\n",
       "    <tr>\n",
       "      <th>10</th>\n",
       "      <td>Row Bootcamp</td>\n",
       "      <td>caesar_bootcamp</td>\n",
       "      <td>0</td>\n",
       "      <td>https://s3.amazonaws.com/static-cdn.pelotoncyc...</td>\n",
       "      <td>Row Bootcamp</td>\n",
       "    </tr>\n",
       "    <tr>\n",
       "      <th>11</th>\n",
       "      <td>Tread Bootcamp</td>\n",
       "      <td>circuit</td>\n",
       "      <td>0</td>\n",
       "      <td>https://s3.amazonaws.com/static-cdn.pelotoncyc...</td>\n",
       "      <td>Tread Bootcamp</td>\n",
       "    </tr>\n",
       "  </tbody>\n",
       "</table>\n",
       "</div>"
      ],
      "text/plain": [
       "              name             slug  count  \\\n",
       "0          Cycling          cycling    749   \n",
       "1       Stretching       stretching    473   \n",
       "2         Strength         strength    394   \n",
       "3          Walking          walking     66   \n",
       "4           Rowing           caesar     31   \n",
       "5       Meditation       meditation     23   \n",
       "6           Cardio           cardio     17   \n",
       "7          Running          running     10   \n",
       "8    Bike Bootcamp    bike_bootcamp      1   \n",
       "9             Yoga             yoga      1   \n",
       "10    Row Bootcamp  caesar_bootcamp      0   \n",
       "11  Tread Bootcamp          circuit      0   \n",
       "\n",
       "                                             icon_url    workout_name  \n",
       "0   https://s3.amazonaws.com/static-cdn.pelotoncyc...         Cycling  \n",
       "1   https://s3.amazonaws.com/static-cdn.pelotoncyc...      Stretching  \n",
       "2   https://s3.amazonaws.com/static-cdn.pelotoncyc...        Strength  \n",
       "3   https://s3.amazonaws.com/static-cdn.pelotoncyc...         Walking  \n",
       "4   https://s3.amazonaws.com/static-cdn.pelotoncyc...          Rowing  \n",
       "5   https://s3.amazonaws.com/static-cdn.pelotoncyc...      Meditation  \n",
       "6   https://s3.amazonaws.com/static-cdn.pelotoncyc...          Cardio  \n",
       "7   https://s3.amazonaws.com/static-cdn.pelotoncyc...         Running  \n",
       "8   https://s3.amazonaws.com/static-cdn.pelotoncyc...   Bike Bootcamp  \n",
       "9   https://s3.amazonaws.com/static-cdn.pelotoncyc...            Yoga  \n",
       "10  https://s3.amazonaws.com/static-cdn.pelotoncyc...    Row Bootcamp  \n",
       "11  https://s3.amazonaws.com/static-cdn.pelotoncyc...  Tread Bootcamp  "
      ]
     },
     "execution_count": 5,
     "metadata": {},
     "output_type": "execute_result"
    }
   ],
   "source": [
    "df_workout_counts = pd.DataFrame(response_json['workout_counts']['workouts'])\n",
    "df_workout_counts"
   ]
  },
  {
   "cell_type": "code",
   "execution_count": 6,
   "id": "fc947895-2ba1-4847-b154-ed86a42d1076",
   "metadata": {
    "executionCancelledAt": null,
    "executionTime": 27,
    "lastExecutedAt": 1738426641333,
    "lastExecutedByKernel": "3b858a18-993e-4fff-a13f-7b5c7d819b79",
    "lastScheduledRunId": null,
    "lastSuccessfullyExecutedCode": "df_personal_records = pd.DataFrame(response_json['personal_records'][0]['records'])\n\n# workoud_id is removed from the view as it is personal info.\ncolumns_to_exclude = ['workout_id']\ncolumns_to_include = [col for col in df_personal_records.columns if col not in columns_to_exclude]\n\ndf_personal_records[columns_to_include].head(5)",
    "outputsMetadata": {
     "0": {
      "height": 50,
      "tableState": {
       "customFilter": {
        "const": {
         "type": "boolean",
         "valid": true,
         "value": true
        },
        "id": "7189f75b-ecf0-4125-863a-7bc875b726b8",
        "nodeType": "const"
       },
       "quickFilterText": "",
       "sort": {
        "sortModel": [
         {
          "colId": "slug",
          "sort": "asc"
         }
        ]
       }
      },
      "type": "dataFrame"
     }
    }
   },
   "outputs": [
    {
     "data": {
      "text/html": [
       "<div>\n",
       "<style scoped>\n",
       "    .dataframe tbody tr th:only-of-type {\n",
       "        vertical-align: middle;\n",
       "    }\n",
       "\n",
       "    .dataframe tbody tr th {\n",
       "        vertical-align: top;\n",
       "    }\n",
       "\n",
       "    .dataframe thead th {\n",
       "        text-align: right;\n",
       "    }\n",
       "</style>\n",
       "<table border=\"1\" class=\"dataframe\">\n",
       "  <thead>\n",
       "    <tr style=\"text-align: right;\">\n",
       "      <th></th>\n",
       "      <th>name</th>\n",
       "      <th>slug</th>\n",
       "      <th>value</th>\n",
       "      <th>raw_value</th>\n",
       "      <th>unit</th>\n",
       "      <th>unit_slug</th>\n",
       "      <th>workout_date</th>\n",
       "    </tr>\n",
       "  </thead>\n",
       "  <tbody>\n",
       "    <tr>\n",
       "      <th>0</th>\n",
       "      <td>45 min</td>\n",
       "      <td>2700</td>\n",
       "      <td>883</td>\n",
       "      <td>882694.27</td>\n",
       "      <td>kj</td>\n",
       "      <td>kj</td>\n",
       "      <td>2024-05-06T09:57:46.552438</td>\n",
       "    </tr>\n",
       "    <tr>\n",
       "      <th>1</th>\n",
       "      <td>60 min</td>\n",
       "      <td>3600</td>\n",
       "      <td>1056</td>\n",
       "      <td>1056107.31</td>\n",
       "      <td>kj</td>\n",
       "      <td>kj</td>\n",
       "      <td>2024-09-24T20:20:52.210217</td>\n",
       "    </tr>\n",
       "    <tr>\n",
       "      <th>2</th>\n",
       "      <td>75 min</td>\n",
       "      <td>4500</td>\n",
       "      <td>587</td>\n",
       "      <td>587051.00</td>\n",
       "      <td>kj</td>\n",
       "      <td>kj</td>\n",
       "      <td>2024-03-09T07:27:46.642128</td>\n",
       "    </tr>\n",
       "    <tr>\n",
       "      <th>3</th>\n",
       "      <td>90 min</td>\n",
       "      <td>5400</td>\n",
       "      <td>1554</td>\n",
       "      <td>1553594.02</td>\n",
       "      <td>kj</td>\n",
       "      <td>kj</td>\n",
       "      <td>2024-09-01T20:10:55.379911</td>\n",
       "    </tr>\n",
       "    <tr>\n",
       "      <th>4</th>\n",
       "      <td>5 min</td>\n",
       "      <td>300</td>\n",
       "      <td>71</td>\n",
       "      <td>71090.35</td>\n",
       "      <td>kj</td>\n",
       "      <td>kj</td>\n",
       "      <td>2021-06-27T09:48:37</td>\n",
       "    </tr>\n",
       "  </tbody>\n",
       "</table>\n",
       "</div>"
      ],
      "text/plain": [
       "     name  slug  value   raw_value unit unit_slug                workout_date\n",
       "0  45 min  2700    883   882694.27   kj        kj  2024-05-06T09:57:46.552438\n",
       "1  60 min  3600   1056  1056107.31   kj        kj  2024-09-24T20:20:52.210217\n",
       "2  75 min  4500    587   587051.00   kj        kj  2024-03-09T07:27:46.642128\n",
       "3  90 min  5400   1554  1553594.02   kj        kj  2024-09-01T20:10:55.379911\n",
       "4   5 min   300     71    71090.35   kj        kj         2021-06-27T09:48:37"
      ]
     },
     "execution_count": 6,
     "metadata": {},
     "output_type": "execute_result"
    }
   ],
   "source": [
    "df_personal_records = pd.DataFrame(response_json['personal_records'][0]['records'])\n",
    "\n",
    "# workoud_id is removed from the view as it is personal info.\n",
    "columns_to_exclude = ['workout_id']\n",
    "columns_to_include = [col for col in df_personal_records.columns if col not in columns_to_exclude]\n",
    "\n",
    "df_personal_records[columns_to_include].head(5)"
   ]
  },
  {
   "cell_type": "code",
   "execution_count": 7,
   "id": "859a0375-e8b6-479d-9a19-50ff63294fd4",
   "metadata": {
    "executionCancelledAt": null,
    "executionTime": 21,
    "lastExecutedAt": 1738426511044,
    "lastExecutedByKernel": "3b858a18-993e-4fff-a13f-7b5c7d819b79",
    "lastScheduledRunId": null,
    "lastSuccessfullyExecutedCode": "df_personal_records = pd.DataFrame([response_json['streaks']])\ndf_personal_records",
    "outputsMetadata": {
     "0": {
      "height": 50,
      "tableState": {
       "customFilter": {
        "const": {
         "type": "boolean",
         "valid": true,
         "value": true
        },
        "id": "7189f75b-ecf0-4125-863a-7bc875b726b8",
        "nodeType": "const"
       },
       "quickFilterText": ""
      },
      "type": "dataFrame"
     }
    }
   },
   "outputs": [
    {
     "data": {
      "text/html": [
       "<div>\n",
       "<style scoped>\n",
       "    .dataframe tbody tr th:only-of-type {\n",
       "        vertical-align: middle;\n",
       "    }\n",
       "\n",
       "    .dataframe tbody tr th {\n",
       "        vertical-align: top;\n",
       "    }\n",
       "\n",
       "    .dataframe thead th {\n",
       "        text-align: right;\n",
       "    }\n",
       "</style>\n",
       "<table border=\"1\" class=\"dataframe\">\n",
       "  <thead>\n",
       "    <tr style=\"text-align: right;\">\n",
       "      <th></th>\n",
       "      <th>current_weekly</th>\n",
       "      <th>best_weekly</th>\n",
       "      <th>start_date_of_current_weekly</th>\n",
       "      <th>current_daily</th>\n",
       "      <th>start_date_of_current_daily</th>\n",
       "    </tr>\n",
       "  </thead>\n",
       "  <tbody>\n",
       "    <tr>\n",
       "      <th>0</th>\n",
       "      <td>114</td>\n",
       "      <td>111</td>\n",
       "      <td>1669792908</td>\n",
       "      <td>0</td>\n",
       "      <td>None</td>\n",
       "    </tr>\n",
       "  </tbody>\n",
       "</table>\n",
       "</div>"
      ],
      "text/plain": [
       "   current_weekly  best_weekly  start_date_of_current_weekly  current_daily  \\\n",
       "0             114          111                    1669792908              0   \n",
       "\n",
       "  start_date_of_current_daily  \n",
       "0                        None  "
      ]
     },
     "execution_count": 7,
     "metadata": {},
     "output_type": "execute_result"
    }
   ],
   "source": [
    "df_streaks = pd.DataFrame([response_json['streaks']])\n",
    "df_streaks"
   ]
  },
  {
   "cell_type": "code",
   "execution_count": 8,
   "id": "c0c993ec-c60f-4065-bc26-cbfbc60eccad",
   "metadata": {
    "executionCancelledAt": null,
    "executionTime": 29,
    "lastExecutedAt": 1738426657976,
    "lastExecutedByKernel": "3b858a18-993e-4fff-a13f-7b5c7d819b79",
    "lastScheduledRunId": null,
    "lastSuccessfullyExecutedCode": "df_achievements =  pd.DataFrame(response_json['achievement_counts']['achievements'])\nachievement_template_norm = pd.json_normalize(df_achievements['template'])\ndf_achievements = pd.concat([df_achievements.drop(columns=['template']), achievement_template_norm], axis=1)\n\ndf_achievements.sort_values('count', ascending = False).head(10)",
    "outputsMetadata": {
     "0": {
      "height": 50,
      "tableState": {
       "customFilter": {
        "const": {
         "type": "boolean",
         "valid": true,
         "value": true
        },
        "id": "7189f75b-ecf0-4125-863a-7bc875b726b8",
        "nodeType": "const"
       },
       "quickFilterText": ""
      },
      "type": "dataFrame"
     }
    }
   },
   "outputs": [
    {
     "data": {
      "text/html": [
       "<div>\n",
       "<style scoped>\n",
       "    .dataframe tbody tr th:only-of-type {\n",
       "        vertical-align: middle;\n",
       "    }\n",
       "\n",
       "    .dataframe tbody tr th {\n",
       "        vertical-align: top;\n",
       "    }\n",
       "\n",
       "    .dataframe thead th {\n",
       "        text-align: right;\n",
       "    }\n",
       "</style>\n",
       "<table border=\"1\" class=\"dataframe\">\n",
       "  <thead>\n",
       "    <tr style=\"text-align: right;\">\n",
       "      <th></th>\n",
       "      <th>count</th>\n",
       "      <th>id</th>\n",
       "      <th>name</th>\n",
       "      <th>slug</th>\n",
       "      <th>image_url</th>\n",
       "      <th>description</th>\n",
       "      <th>animated_image_url</th>\n",
       "      <th>kinetic_token_background</th>\n",
       "    </tr>\n",
       "  </thead>\n",
       "  <tbody>\n",
       "    <tr>\n",
       "      <th>118</th>\n",
       "      <td>302</td>\n",
       "      <td>657e50c747d6458480f1ba6a0fa94c6a</td>\n",
       "      <td>Dynamic Duo</td>\n",
       "      <td>two_to_tango</td>\n",
       "      <td>https://s3.amazonaws.com/peloton-achievement-i...</td>\n",
       "      <td>Awarded for working out with a friend.</td>\n",
       "      <td>None</td>\n",
       "      <td>None</td>\n",
       "    </tr>\n",
       "    <tr>\n",
       "      <th>121</th>\n",
       "      <td>208</td>\n",
       "      <td>3a9ea8169d17455c86b9f52b1011e57b</td>\n",
       "      <td>Squad</td>\n",
       "      <td>socialite</td>\n",
       "      <td>https://s3.amazonaws.com/peloton-achievement-i...</td>\n",
       "      <td>Awarded for working out with 5 friends.</td>\n",
       "      <td>None</td>\n",
       "      <td>None</td>\n",
       "    </tr>\n",
       "    <tr>\n",
       "      <th>120</th>\n",
       "      <td>177</td>\n",
       "      <td>f0bdc95051b64c5bbd296e20d3fecb03</td>\n",
       "      <td>Pack</td>\n",
       "      <td>3_squad</td>\n",
       "      <td>https://s3.amazonaws.com/peloton-achievement-i...</td>\n",
       "      <td>Awarded for working out with 3 friends.</td>\n",
       "      <td>None</td>\n",
       "      <td>None</td>\n",
       "    </tr>\n",
       "    <tr>\n",
       "      <th>119</th>\n",
       "      <td>165</td>\n",
       "      <td>1b0f7ba0b9e945e88c93792484995c00</td>\n",
       "      <td>Three's Company</td>\n",
       "      <td>threes_company</td>\n",
       "      <td>https://s3.amazonaws.com/peloton-achievement-i...</td>\n",
       "      <td>Awarded for working out with 2 friends.</td>\n",
       "      <td>None</td>\n",
       "      <td>None</td>\n",
       "    </tr>\n",
       "    <tr>\n",
       "      <th>122</th>\n",
       "      <td>114</td>\n",
       "      <td>7a68d49d95ce4918b7408b26f91d9eac</td>\n",
       "      <td>Flock</td>\n",
       "      <td>10_flock</td>\n",
       "      <td>https://s3.amazonaws.com/peloton-achievement-i...</td>\n",
       "      <td>Awarded for working out with 10 friends.</td>\n",
       "      <td>None</td>\n",
       "      <td>None</td>\n",
       "    </tr>\n",
       "    <tr>\n",
       "      <th>207</th>\n",
       "      <td>98</td>\n",
       "      <td>df98e7119e4b478ea02494f22c004fe6</td>\n",
       "      <td>Movement Tracker Gold</td>\n",
       "      <td>movement_tracker_gold</td>\n",
       "      <td>https://s3.amazonaws.com/peloton-achievement-i...</td>\n",
       "      <td>Awarded for getting Movement Tracker credit fo...</td>\n",
       "      <td>None</td>\n",
       "      <td>None</td>\n",
       "    </tr>\n",
       "    <tr>\n",
       "      <th>0</th>\n",
       "      <td>93</td>\n",
       "      <td>bac5aefabb2940ba8f0a170fc9d63bf0</td>\n",
       "      <td>Best Output</td>\n",
       "      <td>best_output</td>\n",
       "      <td>https://s3.amazonaws.com/peloton-achievement-i...</td>\n",
       "      <td>Personal best output in a workout.</td>\n",
       "      <td>None</td>\n",
       "      <td>None</td>\n",
       "    </tr>\n",
       "    <tr>\n",
       "      <th>98</th>\n",
       "      <td>64</td>\n",
       "      <td>5298b832e2274ad59cf8857240440fb2</td>\n",
       "      <td>3-Day Streak</td>\n",
       "      <td>3_day_streak</td>\n",
       "      <td>https://s3.amazonaws.com/peloton-achievement-i...</td>\n",
       "      <td>Awarded for working out 3 days in a row.</td>\n",
       "      <td>None</td>\n",
       "      <td>None</td>\n",
       "    </tr>\n",
       "    <tr>\n",
       "      <th>29</th>\n",
       "      <td>42</td>\n",
       "      <td>4036702255e84f26bee944331ef92310</td>\n",
       "      <td>Artist Series</td>\n",
       "      <td>artist_series</td>\n",
       "      <td>https://s3.amazonaws.com/peloton-achievement-i...</td>\n",
       "      <td>Awarded for participating in an Artist Series ...</td>\n",
       "      <td>None</td>\n",
       "      <td>None</td>\n",
       "    </tr>\n",
       "    <tr>\n",
       "      <th>123</th>\n",
       "      <td>38</td>\n",
       "      <td>7bbfe8e58f6744b696b104acf2ecaa72</td>\n",
       "      <td>Swarm</td>\n",
       "      <td>20_swarm</td>\n",
       "      <td>https://s3.amazonaws.com/peloton-achievement-i...</td>\n",
       "      <td>Awarded for working out with 20 friends.</td>\n",
       "      <td>None</td>\n",
       "      <td>None</td>\n",
       "    </tr>\n",
       "  </tbody>\n",
       "</table>\n",
       "</div>"
      ],
      "text/plain": [
       "     count                                id                   name  \\\n",
       "118    302  657e50c747d6458480f1ba6a0fa94c6a            Dynamic Duo   \n",
       "121    208  3a9ea8169d17455c86b9f52b1011e57b                  Squad   \n",
       "120    177  f0bdc95051b64c5bbd296e20d3fecb03                   Pack   \n",
       "119    165  1b0f7ba0b9e945e88c93792484995c00        Three's Company   \n",
       "122    114  7a68d49d95ce4918b7408b26f91d9eac                  Flock   \n",
       "207     98  df98e7119e4b478ea02494f22c004fe6  Movement Tracker Gold   \n",
       "0       93  bac5aefabb2940ba8f0a170fc9d63bf0            Best Output   \n",
       "98      64  5298b832e2274ad59cf8857240440fb2           3-Day Streak   \n",
       "29      42  4036702255e84f26bee944331ef92310          Artist Series   \n",
       "123     38  7bbfe8e58f6744b696b104acf2ecaa72                  Swarm   \n",
       "\n",
       "                      slug                                          image_url  \\\n",
       "118           two_to_tango  https://s3.amazonaws.com/peloton-achievement-i...   \n",
       "121              socialite  https://s3.amazonaws.com/peloton-achievement-i...   \n",
       "120                3_squad  https://s3.amazonaws.com/peloton-achievement-i...   \n",
       "119         threes_company  https://s3.amazonaws.com/peloton-achievement-i...   \n",
       "122               10_flock  https://s3.amazonaws.com/peloton-achievement-i...   \n",
       "207  movement_tracker_gold  https://s3.amazonaws.com/peloton-achievement-i...   \n",
       "0              best_output  https://s3.amazonaws.com/peloton-achievement-i...   \n",
       "98            3_day_streak  https://s3.amazonaws.com/peloton-achievement-i...   \n",
       "29           artist_series  https://s3.amazonaws.com/peloton-achievement-i...   \n",
       "123               20_swarm  https://s3.amazonaws.com/peloton-achievement-i...   \n",
       "\n",
       "                                           description animated_image_url  \\\n",
       "118             Awarded for working out with a friend.               None   \n",
       "121            Awarded for working out with 5 friends.               None   \n",
       "120            Awarded for working out with 3 friends.               None   \n",
       "119            Awarded for working out with 2 friends.               None   \n",
       "122           Awarded for working out with 10 friends.               None   \n",
       "207  Awarded for getting Movement Tracker credit fo...               None   \n",
       "0                   Personal best output in a workout.               None   \n",
       "98            Awarded for working out 3 days in a row.               None   \n",
       "29   Awarded for participating in an Artist Series ...               None   \n",
       "123           Awarded for working out with 20 friends.               None   \n",
       "\n",
       "    kinetic_token_background  \n",
       "118                     None  \n",
       "121                     None  \n",
       "120                     None  \n",
       "119                     None  \n",
       "122                     None  \n",
       "207                     None  \n",
       "0                       None  \n",
       "98                      None  \n",
       "29                      None  \n",
       "123                     None  "
      ]
     },
     "execution_count": 8,
     "metadata": {},
     "output_type": "execute_result"
    }
   ],
   "source": [
    "df_achievements =  pd.DataFrame(response_json['achievement_counts']['achievements'])\n",
    "achievement_template_norm = pd.json_normalize(df_achievements['template'])\n",
    "df_achievements = pd.concat([df_achievements.drop(columns=['template']), achievement_template_norm], axis=1)\n",
    "\n",
    "df_achievements.sort_values('count', ascending = False).head(10)"
   ]
  },
  {
   "cell_type": "markdown",
   "id": "c0d71ae2-0d8e-4458-a32b-a1ee7abd1cd4",
   "metadata": {},
   "source": [
    "## Step 3. Data Type Coersion\n",
    "\n",
    "As we review the dataframe, there are common data type issues that makes it harder for us to \"read\" the data. All columns are passed as string, so we'll need to change types for date or numeric column. The date fields are passsed as UNIX, and will need to be converted to timstamp to be easily interpretable. "
   ]
  },
  {
   "cell_type": "code",
   "execution_count": 9,
   "id": "eb0c878d-321a-42b4-a45a-7fbe5064343e",
   "metadata": {
    "executionCancelledAt": null,
    "executionTime": 144,
    "lastExecutedAt": 1738436470716,
    "lastExecutedByKernel": "86a53b3b-f598-4141-a7d2-c8bf7b979377",
    "lastScheduledRunId": null,
    "lastSuccessfullyExecutedCode": "def coerce_columns(df, type_dict, date_format=None, date_unit = None):\n  \"\"\"\n  Coerces columns in a DataFrame to specified types, including date conversion.\n\n  Args:\n    df: The pandas DataFrame.\n    type_dict: A dictionary mapping column names to data types.\n    date_format: (Optional) A string specifying the date format \n                 if any columns need to be converted to datetime.\n\n  Returns:\n    The DataFrame with coerced columns.\n  \"\"\"\n  for col, col_type in type_dict.items():\n    try:\n      if col_type == 'datetime' and date_format:\n        df[col] = pd.to_datetime(df[col], format=date_format)\n      elif col_type == 'datetime' and date_unit:\n        df[col] = pd.to_datetime(df[col], unit=date_unit)\n      else:\n        df[col] = df[col].astype(col_type)\n    except ValueError as e:\n      print(f\"Error converting column {col} to {col_type}: {e}\")\n  return df"
   },
   "outputs": [],
   "source": [
    "def coerce_columns(df, type_dict, date_format=None, date_unit = None):\n",
    "  \"\"\"\n",
    "  Coerces columns in a DataFrame to specified types, including date conversion.\n",
    "\n",
    "  Args:\n",
    "    df: The pandas DataFrame.\n",
    "    type_dict: A dictionary mapping column names to data types.\n",
    "    date_format: (Optional) A string specifying the date format \n",
    "                 if any columns need to be converted to datetime.\n",
    "\n",
    "  Returns:\n",
    "    The DataFrame with coerced columns.\n",
    "  \"\"\"\n",
    "  for col, col_type in type_dict.items():\n",
    "    try:\n",
    "      if col_type == 'datetime' and date_format:\n",
    "        df[col] = pd.to_datetime(df[col], format=date_format)\n",
    "      elif col_type == 'datetime' and date_unit:\n",
    "        df[col] = pd.to_datetime(df[col], unit=date_unit)\n",
    "      else:\n",
    "        df[col] = df[col].astype(col_type)\n",
    "    except ValueError as e:\n",
    "      print(f\"Error converting column {col} to {col_type}: {e}\")\n",
    "  return df"
   ]
  },
  {
   "cell_type": "code",
   "execution_count": 10,
   "id": "78604c01-b0c5-46fe-a7ab-b3a440de9fe8",
   "metadata": {
    "executionCancelledAt": null,
    "executionTime": 29,
    "lastExecutedAt": 1738426680197,
    "lastExecutedByKernel": "3b858a18-993e-4fff-a13f-7b5c7d819b79",
    "lastScheduledRunId": null,
    "lastSuccessfullyExecutedCode": "col_type_personal_records = {\n    'slug':'int',\n    'value':'int',\n    'raw_value':'float',\n    'workout_date': 'datetime'\n}\n\ndf_personal_records = coerce_columns(df_personal_records, col_type_personal_records, date_format = 'mixed')\n\ndf_personal_records.sort_values('slug').head(5)",
    "outputsMetadata": {
     "0": {
      "height": 50,
      "tableState": {
       "customFilter": {
        "const": {
         "type": "boolean",
         "valid": true,
         "value": true
        },
        "id": "e58fac36-5bd3-4393-82be-e18d5023d4c1",
        "nodeType": "const"
       },
       "quickFilterText": ""
      },
      "type": "dataFrame"
     }
    }
   },
   "outputs": [
    {
     "name": "stdout",
     "output_type": "stream",
     "text": [
      "Error converting column workout_date to datetime: non convertible value 2024-05-06T09:57:46.552438 with the unit 'mixed', at position 0\n"
     ]
    },
    {
     "data": {
      "text/html": [
       "<div>\n",
       "<style scoped>\n",
       "    .dataframe tbody tr th:only-of-type {\n",
       "        vertical-align: middle;\n",
       "    }\n",
       "\n",
       "    .dataframe tbody tr th {\n",
       "        vertical-align: top;\n",
       "    }\n",
       "\n",
       "    .dataframe thead th {\n",
       "        text-align: right;\n",
       "    }\n",
       "</style>\n",
       "<table border=\"1\" class=\"dataframe\">\n",
       "  <thead>\n",
       "    <tr style=\"text-align: right;\">\n",
       "      <th></th>\n",
       "      <th>name</th>\n",
       "      <th>slug</th>\n",
       "      <th>value</th>\n",
       "      <th>raw_value</th>\n",
       "      <th>unit</th>\n",
       "      <th>unit_slug</th>\n",
       "      <th>workout_id</th>\n",
       "      <th>workout_date</th>\n",
       "    </tr>\n",
       "  </thead>\n",
       "  <tbody>\n",
       "    <tr>\n",
       "      <th>4</th>\n",
       "      <td>5 min</td>\n",
       "      <td>300</td>\n",
       "      <td>71</td>\n",
       "      <td>71090.35</td>\n",
       "      <td>kj</td>\n",
       "      <td>kj</td>\n",
       "      <td>fbdc1a79aa3742aa93f72ab821bfdd53</td>\n",
       "      <td>2021-06-27T09:48:37</td>\n",
       "    </tr>\n",
       "    <tr>\n",
       "      <th>5</th>\n",
       "      <td>10 min</td>\n",
       "      <td>600</td>\n",
       "      <td>148</td>\n",
       "      <td>147537.31</td>\n",
       "      <td>kj</td>\n",
       "      <td>kj</td>\n",
       "      <td>867b9f0e534f4eb99f8165fdb3a603ac</td>\n",
       "      <td>2024-04-29T09:41:50.385748</td>\n",
       "    </tr>\n",
       "    <tr>\n",
       "      <th>6</th>\n",
       "      <td>15 min</td>\n",
       "      <td>900</td>\n",
       "      <td>173</td>\n",
       "      <td>172514.45</td>\n",
       "      <td>kj</td>\n",
       "      <td>kj</td>\n",
       "      <td>6a574765b50645688e574ecb485c119d</td>\n",
       "      <td>2021-01-07T21:03:53</td>\n",
       "    </tr>\n",
       "    <tr>\n",
       "      <th>7</th>\n",
       "      <td>20 min</td>\n",
       "      <td>1200</td>\n",
       "      <td>460</td>\n",
       "      <td>460290.48</td>\n",
       "      <td>kj</td>\n",
       "      <td>kj</td>\n",
       "      <td>b8a1fc94d9824a11b31927c44c76ac6e</td>\n",
       "      <td>2024-09-08T11:46:38.416654</td>\n",
       "    </tr>\n",
       "    <tr>\n",
       "      <th>8</th>\n",
       "      <td>30 min</td>\n",
       "      <td>1800</td>\n",
       "      <td>572</td>\n",
       "      <td>571577.48</td>\n",
       "      <td>kj</td>\n",
       "      <td>kj</td>\n",
       "      <td>7700367be5464034b64a2d405ab24c29</td>\n",
       "      <td>2024-06-23T20:08:42.478000</td>\n",
       "    </tr>\n",
       "  </tbody>\n",
       "</table>\n",
       "</div>"
      ],
      "text/plain": [
       "     name  slug  value  raw_value unit unit_slug  \\\n",
       "4   5 min   300     71   71090.35   kj        kj   \n",
       "5  10 min   600    148  147537.31   kj        kj   \n",
       "6  15 min   900    173  172514.45   kj        kj   \n",
       "7  20 min  1200    460  460290.48   kj        kj   \n",
       "8  30 min  1800    572  571577.48   kj        kj   \n",
       "\n",
       "                         workout_id                workout_date  \n",
       "4  fbdc1a79aa3742aa93f72ab821bfdd53         2021-06-27T09:48:37  \n",
       "5  867b9f0e534f4eb99f8165fdb3a603ac  2024-04-29T09:41:50.385748  \n",
       "6  6a574765b50645688e574ecb485c119d         2021-01-07T21:03:53  \n",
       "7  b8a1fc94d9824a11b31927c44c76ac6e  2024-09-08T11:46:38.416654  \n",
       "8  7700367be5464034b64a2d405ab24c29  2024-06-23T20:08:42.478000  "
      ]
     },
     "execution_count": 10,
     "metadata": {},
     "output_type": "execute_result"
    }
   ],
   "source": [
    "col_type_personal_records = {\n",
    "    'slug':'int',\n",
    "    'value':'int',\n",
    "    'raw_value':'float',\n",
    "    'workout_date': 'datetime'\n",
    "}\n",
    "\n",
    "df_personal_records = coerce_columns(df_personal_records, col_type_personal_records, date_unit = 'mixed')\n",
    "\n",
    "df_personal_records.sort_values('slug').head(5)"
   ]
  },
  {
   "cell_type": "markdown",
   "id": "e7692395-f5e9-4c1a-8fad-71ef1d36dc99",
   "metadata": {},
   "source": [
    "## Next Walkthrough\n",
    "\n",
    "We've successfully accessed the Peloton API and retrieved valuable data. But as we explore more endpoints, we'll likely encounter similar patterns in our code. Repeating the same code blocks for different API calls can quickly become tedious and inefficient.\n",
    "\n",
    "In the next walkthrough, I'll transform some of our existing code into reusable functions, making our Peloton data exploration more efficient and enjoyable."
   ]
  }
 ],
 "metadata": {
  "colab": {
   "name": "Welcome to DataCamp Workspaces.ipynb",
   "provenance": []
  },
  "kernelspec": {
   "display_name": "Python 3 (ipykernel)",
   "language": "python",
   "name": "python3"
  },
  "language_info": {
   "codemirror_mode": {
    "name": "ipython",
    "version": 3
   },
   "file_extension": ".py",
   "mimetype": "text/x-python",
   "name": "python",
   "nbconvert_exporter": "python",
   "pygments_lexer": "ipython3",
   "version": "3.12.4"
  }
 },
 "nbformat": 4,
 "nbformat_minor": 5
}
