{
 "cells": [
  {
   "cell_type": "code",
   "execution_count": 98,
   "id": "dfb8e038-da31-47fe-8fb3-3ba16513c3ba",
   "metadata": {
    "executionCancelledAt": null,
    "executionTime": 53,
    "lastExecutedAt": 1738437660062,
    "lastExecutedByKernel": "6a45df92-9f7c-4b0a-9559-e05206c0890b",
    "lastScheduledRunId": null,
    "lastSuccessfullyExecutedCode": "import requests\nimport json\nimport pandas as pd\nimport os\nfrom pprint import pprint"
   },
   "outputs": [],
   "source": [
    "import requests\n",
    "import json\n",
    "import pandas as pd\n",
    "import os\n",
    "from pprint import pprint"
   ]
  },
  {
   "cell_type": "markdown",
   "id": "9dec0e8b-b542-423b-81da-111a3f780e11",
   "metadata": {},
   "source": [
    "We've successfully accessed the Peloton API and retrieved valuable data. But as we explore more endpoints, we'll likely encounter similar patterns in our code. Repeating the same code blocks for different API calls can quickly become tedious and inefficient.\n",
    "\n",
    "Let's transform some of our existing code into reusable functions, making our Peloton data exploration more efficient and enjoyable."
   ]
  },
  {
   "cell_type": "markdown",
   "id": "547409ad-de94-4038-a653-b630339df3e5",
   "metadata": {},
   "source": [
    "## Authenticate and Retrive userID\n",
    "\n",
    "From our previous exercise, we can construct the following function to:\n",
    "\n",
    "* Get user credentials from environment variables.\n",
    "* Post an API request given the username/email and password.\n",
    "* Retrieve the userID (access token) from the response.\n",
    "\n",
    "```\n",
    "def get_user_id(s, api_base_url, path_auth):\n",
    "    \n",
    "    peloton_username = os.environ.get('peloton_user_name') \n",
    "    peloton_password = os.environ.get('peloton_password') \n",
    "    params_auth_query = {'username_or_email': peloton_username, 'password': peloton_password}\n",
    "    \n",
    "    response = s.post(api_base_url + path_auth, json = params_auth_query)\n",
    "    userID = json.loads(response.text)['user_id']\n",
    "    \n",
    "    return(userID)\n",
    "```\n",
    "\n",
    "This function, however, doesn't handle API errors gracefully. For instance, if the credentials are incorrect, it will return an ambiguous `KeyError`.\n",
    "\n",
    "```\n",
    "Cell In[28], line 8, in get_user_id(s, api_base_url, path_auth)\n",
    "      5 params_auth_query = {'username_or_email': peloton_username, 'password': peloton_password}\n",
    "      7 response = s.post(api_base_url + path_auth, json = params_auth_query)\n",
    "----> 8 userID = json.loads(response.text)['user_id']\n",
    "     10 return(userID)\n",
    "\n",
    "KeyError: 'user_id'\n",
    "```\n",
    "\n",
    "Let's create a `handle_api_error` function to provide more informative error messages upon failure."
   ]
  },
  {
   "cell_type": "markdown",
   "id": "1e0147b3-b0e3-4d09-aab9-94a3b6698f3c",
   "metadata": {},
   "source": [
    "## Implementing handle_api_error\n",
    "\n",
    "A robust error handler should check the HTTP status code and the JSON response for specific error messages from the Peloton API.  Let's reate a function that provides more informative error messages, making it easier to debug issues with the Peloton API. More specificially, it will handle following checks:\n",
    "\n",
    "* Status Code Check: Checks if the HTTP status code is 200. Any other code indicates an error.\n",
    "* Clear Error Messages: Raises a ValueError with a descriptive message, including the status code and the raw response text (for debugging).\n",
    "* Error Handling in get_user_id: The get_user_id function now calls handle_api_error after making the API request. This centralizes the error handling logic."
   ]
  },
  {
   "cell_type": "code",
   "execution_count": 99,
   "id": "bdb4af67-ded6-4f61-9a21-bbca60b9a068",
   "metadata": {
    "executionCancelledAt": null,
    "executionTime": 52,
    "lastExecutedAt": 1738437660114,
    "lastExecutedByKernel": "6a45df92-9f7c-4b0a-9559-e05206c0890b",
    "lastScheduledRunId": null,
    "lastSuccessfullyExecutedCode": "def handle_api_error(response, context=\"Peloton Public API request\"):\n    \"\"\"\n    Handles API errors and prints informative messages.\n\n    Args:\n        response: The requests.Response object.\n        context: A string describing the context of the error (e.g., \"authentication\", \"data retrieval\").\n\n    Returns:\n        None if the error is handled, or raises the exception if it's unrecoverable.\n    \"\"\"\n\n    try:\n        response.raise_for_status()  # Raise HTTPError for bad responses (4xx or 5xx)\n    except requests.exceptions.HTTPError as e:\n        print(f\"Error during {context}: {e}\")\n        try: # Attempt to parse JSON error response for more details.\n            error_data = response.json()\n            if isinstance(error_data, dict): # Check if it's a dictionary\n                error_message = error_data.get(\"message\") or error_data.get(\"error\") or \"No detailed error message provided.\"\n                print(f\"API Error Details: {error_message}\")\n            else:\n                print(f\"Response Content: {response.text}\") # Print the raw response if not json\n        except json.JSONDecodeError:\n            print(f\"Response Content: {response.text}\")  # Print the raw response if JSON parsing fails\n        return None\n\n    except requests.exceptions.RequestException as e: # Catch other request exceptions\n        print(f\"Error during {context}: {e}\")\n        return None\n\n    except Exception as e:  # Catch any other unexpected exceptions\n        print(f\"An unexpected error occurred during {context}: {e}\")\n        return None\n\n    return None # If no error, return None"
   },
   "outputs": [],
   "source": [
    "def handle_api_error(response, context=\"Peloton Public API request\"):\n",
    "    \"\"\"\n",
    "    Handles API errors and prints informative messages.\n",
    "\n",
    "    Args:\n",
    "        response: The requests.Response object.\n",
    "        context: A string describing the context of the error (e.g., \"authentication\", \"data retrieval\").\n",
    "\n",
    "    Returns:\n",
    "        None if the error is handled, or raises the exception if it's unrecoverable.\n",
    "    \"\"\"\n",
    "\n",
    "    try:\n",
    "        response.raise_for_status()  # Raise HTTPError for bad responses (4xx or 5xx)\n",
    "    except requests.exceptions.HTTPError as e:\n",
    "        print(f\"Error during {context}: {e}\")\n",
    "        try: # Attempt to parse JSON error response for more details.\n",
    "            error_data = response.json()\n",
    "            if isinstance(error_data, dict): # Check if it's a dictionary\n",
    "                error_message = error_data.get(\"message\") or error_data.get(\"error\") or \"No detailed error message provided.\"\n",
    "                print(f\"API Error Details: {error_message}\")\n",
    "            else:\n",
    "                print(f\"Response Content: {response.text}\") # Print the raw response if not json\n",
    "        except json.JSONDecodeError:\n",
    "            print(f\"Response Content: {response.text}\")  # Print the raw response if JSON parsing fails\n",
    "        return None\n",
    "\n",
    "    except requests.exceptions.RequestException as e: # Catch other request exceptions\n",
    "        print(f\"Error during {context}: {e}\")\n",
    "        return None\n",
    "\n",
    "    except Exception as e:  # Catch any other unexpected exceptions\n",
    "        print(f\"An unexpected error occurred during {context}: {e}\")\n",
    "        return None\n",
    "\n",
    "    return None # If no error, return None"
   ]
  },
  {
   "cell_type": "markdown",
   "id": "e3fc76f2-a849-45d3-9121-f6247051b96a",
   "metadata": {
    "executionCancelledAt": null,
    "executionTime": 1802,
    "lastExecutedAt": 1738432036875,
    "lastExecutedByKernel": "6a45df92-9f7c-4b0a-9559-e05206c0890b",
    "lastScheduledRunId": null,
    "lastSuccessfullyExecutedCode": "This function will also handles the possibility of unexpected responses from the API, making the code more robust. \n\n* JSON Error Parsing: Attempts to parse the JSON response. Peloton's API should return error details in JSON format. This allows us to extract and display a more specific error message. Includes a check for the 'detail' key as well as 'message', as the API may return errors with different structures.\n* Handles Invalid JSON: Includes a try...except block to catch json.JSONDecodeError in case the API returns a non-JSON error response. This prevents cryptic errors if the API behaves unexpectedly."
   },
   "source": [
    "This function will also handles the possibility of unexpected responses from the API, making the code more robust. \n",
    "\n",
    "* JSON Error Parsing: Attempts to parse the JSON response. Peloton's API should return error details in JSON format. This allows us to extract and display a more specific error message. Includes a check for the 'detail' key as well as 'message', as the API may return errors with different structures.\n",
    "* Handles Invalid JSON: Includes a try...except block to catch json.JSONDecodeError in case the API returns a non-JSON error response. This prevents cryptic errors if the API behaves unexpectedly."
   ]
  },
  {
   "cell_type": "markdown",
   "id": "2a9f4d5d-1267-4802-a3a4-db123626e45d",
   "metadata": {},
   "source": [
    "## (Refactor) Authenticate and Retrive userID\n",
    "\n",
    "Let's enhance the `get_user_id` function to leverage the `handle_api_erro`r function for robust error management.  We'll also incorporate default values for the api_base_url and path_auth parameters to simplify usage.  Finally, we'll make the user credentials optional, allowing for more flexible authentication methods."
   ]
  },
  {
   "cell_type": "code",
   "execution_count": 100,
   "id": "e22eb962-72d2-4185-a4eb-c1442840a686",
   "metadata": {
    "executionCancelledAt": null,
    "executionTime": 52,
    "lastExecutedAt": 1738437660166,
    "lastExecutedByKernel": "6a45df92-9f7c-4b0a-9559-e05206c0890b",
    "lastScheduledRunId": null,
    "lastSuccessfullyExecutedCode": "def get_user_id(s,\n                api_base_url=\"https://api.onepeloton.com\",\n                path_auth=\"/auth/login\",\n                peloton_username=None,  # Initialize to None\n                peloton_password=None\n               ):\n    \"\"\"\n    Retrieves the Peloton user ID.\n\n    Args:\n        s: A requests session object.\n        api_base_url: The base URL for the Peloton API. Defaults to \"https://api.onepeloton.com\".\n        path_auth: The API path for authentication. Defaults to \"/auth/login\".\n        peloton_username: The Peloton username. If None, tries to get it from environment variables.\n        peloton_password: The Peloton password. If None, tries to get it from environment variables.\n\n    Returns:\n        The Peloton user ID, or None if an error occurs.\n    \"\"\"\n\n    if peloton_username is None:\n        peloton_username = os.environ.get('peloton_user_name')\n    if peloton_password is None:\n        peloton_password = os.environ.get('peloton_password')\n\n    if not peloton_username or not peloton_password:\n        print(\"Error: Peloton username and password must be provided (either as arguments or environment variables).\")\n        return None\n\n    params_auth_query = {'username_or_email': peloton_username, 'password': peloton_password}\n     \n    try:\n        response = s.post(api_base_url + path_auth, json = params_auth_query)\n        if handle_api_error(response, context=\"userID retrieval\"): \n            return None\n\n        userID = json.loads(response.text)['user_id'] \n        return userID\n\n    except json.JSONDecodeError as e:\n        print(f\"Error decoding JSON response: {e}\")\n        return None\n    except Exception as e:\n        print(f\"An unexpected error occurred: {e}\")\n        return None"
   },
   "outputs": [],
   "source": [
    "def get_user_id(s,\n",
    "                api_base_url=\"https://api.onepeloton.com\",\n",
    "                path_auth=\"/auth/login\",\n",
    "                peloton_username=None,  # Initialize to None\n",
    "                peloton_password=None\n",
    "               ):\n",
    "    \"\"\"\n",
    "    Retrieves the Peloton user ID.\n",
    "\n",
    "    Args:\n",
    "        s: A requests session object.\n",
    "        api_base_url: The base URL for the Peloton API. Defaults to \"https://api.onepeloton.com\".\n",
    "        path_auth: The API path for authentication. Defaults to \"/auth/login\".\n",
    "        peloton_username: The Peloton username. If None, tries to get it from environment variables.\n",
    "        peloton_password: The Peloton password. If None, tries to get it from environment variables.\n",
    "\n",
    "    Returns:\n",
    "        The Peloton user ID, or None if an error occurs.\n",
    "    \"\"\"\n",
    "\n",
    "    if peloton_username is None:\n",
    "        peloton_username = os.environ.get('peloton_user_name')\n",
    "    if peloton_password is None:\n",
    "        peloton_password = os.environ.get('peloton_password')\n",
    "\n",
    "    if not peloton_username or not peloton_password:\n",
    "        print(\"Error: Peloton username and password must be provided (either as arguments or environment variables).\")\n",
    "        return None\n",
    "\n",
    "    params_auth_query = {'username_or_email': peloton_username, 'password': peloton_password}\n",
    "     \n",
    "    try:\n",
    "        response = s.post(api_base_url + path_auth, json = params_auth_query)\n",
    "        if handle_api_error(response, context=\"userID retrieval\"): \n",
    "            return None\n",
    "\n",
    "        userID = json.loads(response.text)['user_id'] \n",
    "        return userID\n",
    "\n",
    "    except json.JSONDecodeError as e:\n",
    "        print(f\"Error decoding JSON response: {e}\")\n",
    "        return None\n",
    "    except Exception as e:\n",
    "        print(f\"An unexpected error occurred: {e}\")\n",
    "        return None"
   ]
  },
  {
   "cell_type": "markdown",
   "id": "161d7878-6761-46c1-9f1a-92253075a4e5",
   "metadata": {},
   "source": [
    "Let's see how it handles authentification error."
   ]
  },
  {
   "cell_type": "code",
   "execution_count": 101,
   "id": "e8f1149f-c77f-4775-9c9c-27c9e5e52528",
   "metadata": {
    "executionCancelledAt": null,
    "executionTime": 200,
    "lastExecutedAt": 1738437660366,
    "lastExecutedByKernel": "6a45df92-9f7c-4b0a-9559-e05206c0890b",
    "lastScheduledRunId": null,
    "lastSuccessfullyExecutedCode": "session = requests.Session()\nuserID = get_user_id(session, peloton_username = 'auth_error_test@email.com')",
    "outputsMetadata": {
     "0": {
      "height": 101,
      "type": "stream"
     }
    }
   },
   "outputs": [
    {
     "name": "stdout",
     "output_type": "stream",
     "text": [
      "Error during userID retrieval: 401 Client Error: Unauthorized for url: https://api.onepeloton.com/auth/login\n",
      "API Error Details: Login failed\n",
      "An unexpected error occurred: 'user_id'\n"
     ]
    }
   ],
   "source": [
    "session = requests.Session()\n",
    "userID = get_user_id(session, peloton_username = 'auth_error_test@email.com')"
   ]
  },
  {
   "cell_type": "markdown",
   "id": "43a1c1e3-c037-4d3b-8267-c955bdbc7e5f",
   "metadata": {},
   "source": [
    "As shown above, now when `get_user_id` fails, it returns a clear error message that shows login failed with credential error.\n",
    "\n",
    "Let's do the same for the data extraction!"
   ]
  },
  {
   "cell_type": "markdown",
   "id": "2d422889-e321-4717-b83c-e8d17a15a395",
   "metadata": {
    "executionCancelledAt": null,
    "executionTime": 51,
    "lastExecutedAt": 1738437206830,
    "lastExecutedByKernel": "6a45df92-9f7c-4b0a-9559-e05206c0890b",
    "lastScheduledRunId": null,
    "lastSuccessfullyExecutedCode": "## Extract and Clean User Overview Output\n\n"
   },
   "source": [
    "## Extract and Clean User Overview Output\n",
    "\n",
    "In this section, we'll develop a suite of functions to process the raw user overview data retrieved from the Peloton API.  These functions will handle the extraction, transformation, and cleaning of the data, ultimately converting it into a structured, tabular format suitable for analysis.  Specifically, we will define:\n",
    "\n",
    "* `extract_user_overview`: This function will use the userID obtained from get_user_id to query the Peloton API's user overview endpoint. It will then parse the JSON response and return the data in a usable format.\n",
    "* `coerce_columns`: This utility function will address data type inconsistencies and format issues within the raw data. It will handle conversions such as Unix timestamps to datetime objects to ensure data readability and consistency.\n",
    "* `clean_user_overview`: This core function will take the processed JSON output from `extract_user_overview` and, with the help of `coerce_columns`, transform it into several pandas DataFrames. This tabular structure will facilitate quick review and downstream data analysis.\n",
    "\n",
    "Let's start with `extract_user_overview`.\n"
   ]
  },
  {
   "cell_type": "code",
   "execution_count": 102,
   "id": "bda5eaa7-5de5-4923-9fd5-7852ff070c37",
   "metadata": {
    "executionCancelledAt": null,
    "executionTime": 52,
    "lastExecutedAt": 1738437660418,
    "lastExecutedByKernel": "6a45df92-9f7c-4b0a-9559-e05206c0890b",
    "lastScheduledRunId": null,
    "lastSuccessfullyExecutedCode": "def extract_user_overview(s,\n                          userID,\n                          api_base_url=\"https://api.onepeloton.com\"\n                          ):\n    \n    \"\"\"Retrieves the user overview data from the Peloton API.\n\n    Args:\n        s: A requests.Session object, likely already authenticated.\n        userID: The ID of the user whose overview to retrieve.\n        api_base_url: The base URL for the Peloton API. Defaults to the public API URL.\n\n    Returns:\n        A dictionary containing the user overview data (parsed JSON).\n\n    Raises:\n        ValueError: If the Peloton API returns an error (non-200 status code) \n                    or returns a non-JSON response.  The ValueError message \n                    will contain details about the API error.\n        Other Exceptions: Any other exceptions raised during the API call\n                         (e.g., connection errors) will be re-raised.\n    \"\"\"\n    \n    path_user_overview = f'/api/user/{userID}/overview'\n    headers = {\n        'Peloton-Platform': 'web'\n    }\n    \n    try:\n        response = s.get(api_base_url + path_user_overview, headers = headers)\n        if handle_api_error(response, context=\"user overview retrieval\"): \n            return None\n\n        response_json = json.loads(response.text)\n        return(response_json)\n\n    except json.JSONDecodeError as e:\n        print(f\"Error decoding JSON response: {e}\")\n        return None\n    except Exception as e:\n        print(f\"An unexpected error occurred: {e}\")\n        return None"
   },
   "outputs": [],
   "source": [
    "def extract_user_overview(s,\n",
    "                          userID,\n",
    "                          api_base_url=\"https://api.onepeloton.com\"\n",
    "                          ):\n",
    "    \n",
    "    \"\"\"Retrieves the user overview data from the Peloton API.\n",
    "\n",
    "    Args:\n",
    "        s: A requests.Session object, likely already authenticated.\n",
    "        userID: The ID of the user whose overview to retrieve.\n",
    "        api_base_url: The base URL for the Peloton API. Defaults to the public API URL.\n",
    "\n",
    "    Returns:\n",
    "        A dictionary containing the user overview data (parsed JSON).\n",
    "\n",
    "    Raises:\n",
    "        ValueError: If the Peloton API returns an error (non-200 status code) \n",
    "                    or returns a non-JSON response.  The ValueError message \n",
    "                    will contain details about the API error.\n",
    "        Other Exceptions: Any other exceptions raised during the API call\n",
    "                         (e.g., connection errors) will be re-raised.\n",
    "    \"\"\"\n",
    "    \n",
    "    path_user_overview = f'/api/user/{userID}/overview'\n",
    "    headers = {\n",
    "        'Peloton-Platform': 'web'\n",
    "    }\n",
    "    \n",
    "    try:\n",
    "        response = s.get(api_base_url + path_user_overview, headers = headers)\n",
    "        if handle_api_error(response, context=\"user overview retrieval\"): \n",
    "            return None\n",
    "\n",
    "        response_json = json.loads(response.text)\n",
    "        return(response_json)\n",
    "\n",
    "    except json.JSONDecodeError as e:\n",
    "        print(f\"Error decoding JSON response: {e}\")\n",
    "        return None\n",
    "    except Exception as e:\n",
    "        print(f\"An unexpected error occurred: {e}\")\n",
    "        return None"
   ]
  },
  {
   "cell_type": "code",
   "execution_count": 103,
   "id": "14531b23-0d00-495e-9fe6-86fa320738f0",
   "metadata": {
    "executionCancelledAt": null,
    "executionTime": 419,
    "lastExecutedAt": 1738437660837,
    "lastExecutedByKernel": "6a45df92-9f7c-4b0a-9559-e05206c0890b",
    "lastScheduledRunId": null,
    "lastSuccessfullyExecutedCode": "session = requests.Session()\nuserID = get_user_id(session)\nresponse_json = extract_user_overview(session, userID)"
   },
   "outputs": [],
   "source": [
    "session = requests.Session()\n",
    "userID = get_user_id(session)\n",
    "response_json = extract_user_overview(session, userID)"
   ]
  },
  {
   "cell_type": "markdown",
   "id": "6ea3021a-53c0-4514-9052-fb0f4376fc0d",
   "metadata": {},
   "source": [
    "As shown below, the response_json now contains the user overivew data - namely, achievement coutns, personal records, streaks, and workout counts."
   ]
  },
  {
   "cell_type": "code",
   "execution_count": 104,
   "id": "c8886cd5-80af-411d-bed5-475ce6427711",
   "metadata": {
    "executionCancelledAt": null,
    "executionTime": 52,
    "lastExecutedAt": 1738437660890,
    "lastExecutedByKernel": "6a45df92-9f7c-4b0a-9559-e05206c0890b",
    "lastScheduledRunId": null,
    "lastSuccessfullyExecutedCode": "# remove id from displaying, as it is a sensitive record.\ndef remove_key_comprehension(data, key_to_remove):\n  if isinstance(data, dict):\n    return {k: v for k, v in data.items() if k != key_to_remove}\n  return data # if not dict\n\nnew_data = remove_key_comprehension(response_json, \"id\")\npprint(new_data, depth = 2)",
    "outputsMetadata": {
     "0": {
      "height": 0,
      "type": "stream"
     }
    }
   },
   "outputs": [
    {
     "name": "stdout",
     "output_type": "stream",
     "text": [
      "{'achievement_counts': {'achievements': [...], 'total_count': 1650},\n",
      " 'personal_records': [{...}],\n",
      " 'streaks': {'best_weekly': 111,\n",
      "             'current_daily': 0,\n",
      "             'current_weekly': 114,\n",
      "             'start_date_of_current_daily': None,\n",
      "             'start_date_of_current_weekly': 1669792908},\n",
      " 'workout_counts': {'total_workouts': 1765, 'workouts': [...]}}\n"
     ]
    }
   ],
   "source": [
    "# remove id from displaying, as it is a sensitive record.\n",
    "def remove_key_comprehension(data, key_to_remove):\n",
    "  if isinstance(data, dict):\n",
    "    return {k: v for k, v in data.items() if k != key_to_remove}\n",
    "  return data # if not dict\n",
    "\n",
    "new_data = remove_key_comprehension(response_json, \"id\")\n",
    "pprint(new_data, depth = 2)"
   ]
  },
  {
   "cell_type": "markdown",
   "id": "c3318908-46f6-4151-902d-49a4cdff9b8d",
   "metadata": {},
   "source": [
    "Let's now write functions to show each entries in dataframe with correct datatype."
   ]
  },
  {
   "cell_type": "code",
   "execution_count": 109,
   "id": "32ac7665-565f-4a6e-985c-1c6427c17e7b",
   "metadata": {
    "executionCancelledAt": null,
    "executionTime": 52,
    "lastExecutedAt": 1738437711970,
    "lastExecutedByKernel": "6a45df92-9f7c-4b0a-9559-e05206c0890b",
    "lastScheduledRunId": null,
    "lastSuccessfullyExecutedCode": "def coerce_columns(df, type_dict, date_format=None, date_unit=None):\n  \"\"\"\n  Coerces columns in a DataFrame to specified types, including date conversion.\n\n  Args:\n    df: The pandas DataFrame.\n    type_dict: A dictionary mapping column names to data types.\n    date_format: (Optional) A string specifying the date format \n                 if any columns need to be converted to datetime.\n\n  Returns:\n    The DataFrame with coerced columns.\n  \"\"\"\n  for col, col_type in type_dict.items():\n    try:\n      if col_type == 'datetime' and date_format:\n        df[col] = pd.to_datetime(df[col], format=date_format)\n      elif col_type == 'datetime' and date_unit:\n        df[col] = pd.to_datetime(df[col], unit=date_unit)\n      else:\n        df[col] = df[col].astype(col_type)\n    except ValueError as e:\n      print(f\"Error converting column {col} to {col_type}: {e}\")\n  return (df)"
   },
   "outputs": [],
   "source": [
    "def coerce_columns(df, type_dict, date_format=None, date_unit=None):\n",
    "  \"\"\"\n",
    "  Coerces columns in a DataFrame to specified types, including date conversion.\n",
    "\n",
    "  Args:\n",
    "    df: The pandas DataFrame.\n",
    "    type_dict: A dictionary mapping column names to data types.\n",
    "    date_format: (Optional) A string specifying the date format \n",
    "                 if any columns need to be converted to datetime.\n",
    "\n",
    "  Returns:\n",
    "    The DataFrame with coerced columns.\n",
    "  \"\"\"\n",
    "  for col, col_type in type_dict.items():\n",
    "    try:\n",
    "      if col_type == 'datetime' and date_format:\n",
    "        df[col] = pd.to_datetime(df[col], format=date_format)\n",
    "      elif col_type == 'datetime' and date_unit:\n",
    "        df[col] = pd.to_datetime(df[col], unit=date_unit)\n",
    "      else:\n",
    "        df[col] = df[col].astype(col_type)\n",
    "    except ValueError as e:\n",
    "      print(f\"Error converting column {col} to {col_type}: {e}\")\n",
    "  return (df)"
   ]
  },
  {
   "cell_type": "code",
   "execution_count": 118,
   "id": "ea6245ec-7886-4443-8c5c-28b2ba6c96dd",
   "metadata": {
    "executionCancelledAt": null,
    "executionTime": 19,
    "lastExecutedAt": 1738437890026,
    "lastExecutedByKernel": "6a45df92-9f7c-4b0a-9559-e05206c0890b",
    "lastScheduledRunId": null,
    "lastSuccessfullyExecutedCode": "def clean_user_overview(response_json):\n    \"\"\"Cleans and structures the user overview data from the Peloton API.\n\n    Args:\n        response_json: A dictionary containing the JSON response from the \n                       Peloton user overview API endpoint.\n\n    Returns:\n        A tuple containing four pandas DataFrames:\n            - df_personal_records: Personal records data.\n            - df_streaks: Streaks data.\n            - df_achievements: Achievements data.\n            - df_workout_counts: Workout counts data.\n\n        Returns empty DataFrame for any missing keys.\n    \"\"\" \n    \n    try:\n        # personal_records\n        df_personal_records = pd.DataFrame(response_json['personal_records'][0]['records'])\n        col_type_personal_records = {\n            'slug':'int',\n            'value':'int',\n            'raw_value':'float',\n            'workout_date': 'datetime'\n        }\n        df_personal_records = coerce_columns(df_personal_records, col_type_personal_records, date_format = 'mixed')\n        df_personal_records = df_personal_records.sort_values('slug')\n\n        # streaks\n        df_streaks = pd.DataFrame([response_json['streaks']])\n        col_type_streaks = {\n            'start_date_of_current_weekly':'datetime',\n            'start_date_of_current_daily':'datetime'\n        }    \n        df_streaks = coerce_columns(df_streaks, col_type_streaks, date_unit = 's')   \n\n        # dachievements\n        df_achievements =  pd.DataFrame(response_json['achievement_counts']['achievements'])\n        achievement_template_norm = pd.json_normalize(df_achievements['template'])\n        df_achievements = pd.concat([df_achievements.drop(columns=['template']), achievement_template_norm], axis=1)\n\n        # workout counts\n        df_workout_counts = pd.DataFrame(response_json['workout_counts']['workouts'])\n\n        return(df_personal_records, df_streaks, df_achievements, df_workout_counts)\n\n    except (KeyError, TypeError) as e:\n        print(f\"Error processing user overview data: {e}\")\n        return pd.DataFrame(), pd.DataFrame(), pd.DataFrame(), pd.DataFrame() "
   },
   "outputs": [],
   "source": [
    "def clean_user_overview(response_json):\n",
    "    \"\"\"Cleans and structures the user overview data from the Peloton API.\n",
    "\n",
    "    Args:\n",
    "        response_json: A dictionary containing the JSON response from the \n",
    "                       Peloton user overview API endpoint.\n",
    "\n",
    "    Returns:\n",
    "        A tuple containing four pandas DataFrames:\n",
    "            - df_personal_records: Personal records data.\n",
    "            - df_streaks: Streaks data.\n",
    "            - df_achievements: Achievements data.\n",
    "            - df_workout_counts: Workout counts data.\n",
    "\n",
    "        Returns empty DataFrame for any missing keys.\n",
    "    \"\"\" \n",
    "    \n",
    "    try:\n",
    "        # personal_records\n",
    "        df_personal_records = pd.DataFrame(response_json['personal_records'][0]['records'])\n",
    "        col_type_personal_records = {\n",
    "            'slug':'int',\n",
    "            'value':'int',\n",
    "            'raw_value':'float',\n",
    "            'workout_date': 'datetime'\n",
    "        }\n",
    "        df_personal_records = coerce_columns(df_personal_records, col_type_personal_records, date_format = 'mixed')\n",
    "        df_personal_records = df_personal_records.sort_values('slug')\n",
    "\n",
    "        # streaks\n",
    "        df_streaks = pd.DataFrame([response_json['streaks']])\n",
    "        col_type_streaks = {\n",
    "            'start_date_of_current_weekly':'datetime',\n",
    "            'start_date_of_current_daily':'datetime'\n",
    "        }    \n",
    "        df_streaks = coerce_columns(df_streaks, col_type_streaks, date_unit = 's')   \n",
    "\n",
    "        # dachievements\n",
    "        df_achievements =  pd.DataFrame(response_json['achievement_counts']['achievements'])\n",
    "        achievement_template_norm = pd.json_normalize(df_achievements['template'])\n",
    "        df_achievements = pd.concat([df_achievements.drop(columns=['template']), achievement_template_norm], axis=1)\n",
    "\n",
    "        # workout counts\n",
    "        df_workout_counts = pd.DataFrame(response_json['workout_counts']['workouts'])\n",
    "\n",
    "        return(df_personal_records, df_streaks, df_achievements, df_workout_counts)\n",
    "\n",
    "    except (KeyError, TypeError) as e:\n",
    "        print(f\"Error processing user overview data: {e}\")\n",
    "        return pd.DataFrame(), pd.DataFrame(), pd.DataFrame(), pd.DataFrame() "
   ]
  },
  {
   "cell_type": "code",
   "execution_count": 119,
   "id": "d231c009-64a2-4b8a-b996-28e327ae2da3",
   "metadata": {
    "executionCancelledAt": null,
    "executionTime": 447,
    "lastExecutedAt": 1738437892664,
    "lastExecutedByKernel": "6a45df92-9f7c-4b0a-9559-e05206c0890b",
    "lastScheduledRunId": null,
    "lastSuccessfullyExecutedCode": "session = requests.Session()\nuserID = get_user_id(session)\nresponse_json = extract_user_overview(session, userID)\ndf_personal_records, df_streaks, df_achievements, df_workout_counts = clean_user_overview(response_json)"
   },
   "outputs": [],
   "source": [
    "session = requests.Session()\n",
    "userID = get_user_id(session)\n",
    "\n",
    "response_json = extract_user_overview(session, userID)\n",
    "df_personal_records, df_streaks, df_achievements, df_workout_counts = clean_user_overview(response_json)"
   ]
  },
  {
   "cell_type": "markdown",
   "id": "aecfa09c-1d49-402e-824f-1cb4c2c0bcce",
   "metadata": {},
   "source": [
    "Hmmm, the personal records shows that I should retake 75 min class - as its output is far below shorter length classes."
   ]
  },
  {
   "cell_type": "code",
   "execution_count": 120,
   "id": "03ec9ffd-3ae1-4a01-beb8-3d6b2245ca0b",
   "metadata": {
    "executionCancelledAt": null,
    "executionTime": 23,
    "lastExecutedAt": 1738437893822,
    "lastExecutedByKernel": "6a45df92-9f7c-4b0a-9559-e05206c0890b",
    "lastScheduledRunId": null,
    "lastSuccessfullyExecutedCode": "df_personal_records.head(10)[['name', 'value', 'unit']]",
    "outputsMetadata": {
     "0": {
      "height": 0,
      "tableState": {
       "quickFilterText": ""
      },
      "type": "dataFrame"
     }
    }
   },
   "outputs": [
    {
     "data": {
      "application/com.datacamp.data-table.v2+json": {
       "table": {
        "data": {
         "index": [
          4,
          5,
          6,
          7,
          8,
          0,
          1,
          2,
          3
         ],
         "name": [
          "5 min",
          "10 min",
          "15 min",
          "20 min",
          "30 min",
          "45 min",
          "60 min",
          "75 min",
          "90 min"
         ],
         "unit": [
          "kj",
          "kj",
          "kj",
          "kj",
          "kj",
          "kj",
          "kj",
          "kj",
          "kj"
         ],
         "value": [
          71,
          148,
          173,
          460,
          572,
          883,
          1056,
          587,
          1554
         ]
        },
        "schema": {
         "fields": [
          {
           "name": "index",
           "type": "integer"
          },
          {
           "name": "name",
           "type": "string"
          },
          {
           "name": "value",
           "type": "integer"
          },
          {
           "name": "unit",
           "type": "string"
          }
         ],
         "pandas_version": "1.4.0",
         "primaryKey": [
          "index"
         ]
        }
       },
       "total_rows": 9,
       "truncation_type": null
      },
      "text/html": [
       "<div>\n",
       "<style scoped>\n",
       "    .dataframe tbody tr th:only-of-type {\n",
       "        vertical-align: middle;\n",
       "    }\n",
       "\n",
       "    .dataframe tbody tr th {\n",
       "        vertical-align: top;\n",
       "    }\n",
       "\n",
       "    .dataframe thead th {\n",
       "        text-align: right;\n",
       "    }\n",
       "</style>\n",
       "<table border=\"1\" class=\"dataframe\">\n",
       "  <thead>\n",
       "    <tr style=\"text-align: right;\">\n",
       "      <th></th>\n",
       "      <th>name</th>\n",
       "      <th>value</th>\n",
       "      <th>unit</th>\n",
       "    </tr>\n",
       "  </thead>\n",
       "  <tbody>\n",
       "    <tr>\n",
       "      <th>4</th>\n",
       "      <td>5 min</td>\n",
       "      <td>71</td>\n",
       "      <td>kj</td>\n",
       "    </tr>\n",
       "    <tr>\n",
       "      <th>5</th>\n",
       "      <td>10 min</td>\n",
       "      <td>148</td>\n",
       "      <td>kj</td>\n",
       "    </tr>\n",
       "    <tr>\n",
       "      <th>6</th>\n",
       "      <td>15 min</td>\n",
       "      <td>173</td>\n",
       "      <td>kj</td>\n",
       "    </tr>\n",
       "    <tr>\n",
       "      <th>7</th>\n",
       "      <td>20 min</td>\n",
       "      <td>460</td>\n",
       "      <td>kj</td>\n",
       "    </tr>\n",
       "    <tr>\n",
       "      <th>8</th>\n",
       "      <td>30 min</td>\n",
       "      <td>572</td>\n",
       "      <td>kj</td>\n",
       "    </tr>\n",
       "    <tr>\n",
       "      <th>0</th>\n",
       "      <td>45 min</td>\n",
       "      <td>883</td>\n",
       "      <td>kj</td>\n",
       "    </tr>\n",
       "    <tr>\n",
       "      <th>1</th>\n",
       "      <td>60 min</td>\n",
       "      <td>1056</td>\n",
       "      <td>kj</td>\n",
       "    </tr>\n",
       "    <tr>\n",
       "      <th>2</th>\n",
       "      <td>75 min</td>\n",
       "      <td>587</td>\n",
       "      <td>kj</td>\n",
       "    </tr>\n",
       "    <tr>\n",
       "      <th>3</th>\n",
       "      <td>90 min</td>\n",
       "      <td>1554</td>\n",
       "      <td>kj</td>\n",
       "    </tr>\n",
       "  </tbody>\n",
       "</table>\n",
       "</div>"
      ],
      "text/plain": [
       "     name  value unit\n",
       "4   5 min     71   kj\n",
       "5  10 min    148   kj\n",
       "6  15 min    173   kj\n",
       "7  20 min    460   kj\n",
       "8  30 min    572   kj\n",
       "0  45 min    883   kj\n",
       "1  60 min   1056   kj\n",
       "2  75 min    587   kj\n",
       "3  90 min   1554   kj"
      ]
     },
     "execution_count": 120,
     "metadata": {
      "application/com.datacamp.data-table.v2+json": {
       "status": "success"
      }
     },
     "output_type": "execute_result"
    }
   ],
   "source": [
    "df_personal_records.head(10)[['name', 'value', 'unit']]"
   ]
  },
  {
   "cell_type": "markdown",
   "id": "0aaecdf3-7ca8-4c63-be25-b6915f354bdb",
   "metadata": {},
   "source": [
    "I forgot to do my Peloton workout yesterday, which unfortunately reset my daily streak. Time for a fresh start!"
   ]
  },
  {
   "cell_type": "code",
   "execution_count": 121,
   "id": "7502b56b-a5bc-4793-9fa5-728a63917aab",
   "metadata": {
    "executionCancelledAt": null,
    "executionTime": 20,
    "lastExecutedAt": 1738437899081,
    "lastExecutedByKernel": "6a45df92-9f7c-4b0a-9559-e05206c0890b",
    "lastScheduledRunId": null,
    "lastSuccessfullyExecutedCode": "df_streaks.T",
    "outputsMetadata": {
     "0": {
      "height": 0,
      "tableState": {
       "quickFilterText": ""
      },
      "type": "dataFrame"
     }
    }
   },
   "outputs": [
    {
     "data": {
      "application/com.datacamp.data-table.v2+json": {
       "table": {
        "data": {
         "0": [
          114,
          111,
          "2022-11-30T07:21:48.000",
          0,
          null
         ],
         "index": [
          "current_weekly",
          "best_weekly",
          "start_date_of_current_weekly",
          "current_daily",
          "start_date_of_current_daily"
         ]
        },
        "schema": {
         "fields": [
          {
           "name": "index",
           "type": "string"
          },
          {
           "name": "0",
           "type": "string"
          }
         ],
         "pandas_version": "1.4.0",
         "primaryKey": [
          "index"
         ]
        }
       },
       "total_rows": 5,
       "truncation_type": null
      },
      "text/html": [
       "<div>\n",
       "<style scoped>\n",
       "    .dataframe tbody tr th:only-of-type {\n",
       "        vertical-align: middle;\n",
       "    }\n",
       "\n",
       "    .dataframe tbody tr th {\n",
       "        vertical-align: top;\n",
       "    }\n",
       "\n",
       "    .dataframe thead th {\n",
       "        text-align: right;\n",
       "    }\n",
       "</style>\n",
       "<table border=\"1\" class=\"dataframe\">\n",
       "  <thead>\n",
       "    <tr style=\"text-align: right;\">\n",
       "      <th></th>\n",
       "      <th>0</th>\n",
       "    </tr>\n",
       "  </thead>\n",
       "  <tbody>\n",
       "    <tr>\n",
       "      <th>current_weekly</th>\n",
       "      <td>114</td>\n",
       "    </tr>\n",
       "    <tr>\n",
       "      <th>best_weekly</th>\n",
       "      <td>111</td>\n",
       "    </tr>\n",
       "    <tr>\n",
       "      <th>start_date_of_current_weekly</th>\n",
       "      <td>2022-11-30 07:21:48</td>\n",
       "    </tr>\n",
       "    <tr>\n",
       "      <th>current_daily</th>\n",
       "      <td>0</td>\n",
       "    </tr>\n",
       "    <tr>\n",
       "      <th>start_date_of_current_daily</th>\n",
       "      <td>NaT</td>\n",
       "    </tr>\n",
       "  </tbody>\n",
       "</table>\n",
       "</div>"
      ],
      "text/plain": [
       "                                                0\n",
       "current_weekly                                114\n",
       "best_weekly                                   111\n",
       "start_date_of_current_weekly  2022-11-30 07:21:48\n",
       "current_daily                                   0\n",
       "start_date_of_current_daily                   NaT"
      ]
     },
     "execution_count": 121,
     "metadata": {
      "application/com.datacamp.data-table.v2+json": {
       "status": "success"
      }
     },
     "output_type": "execute_result"
    }
   ],
   "source": [
    "df_streaks.T"
   ]
  },
  {
   "cell_type": "markdown",
   "id": "dc4a86c2-f5c1-448d-b56d-84845fa52510",
   "metadata": {},
   "source": [
    "In fact, I'll be aiming for another `60-Day Streak` this year!"
   ]
  },
  {
   "cell_type": "code",
   "execution_count": 129,
   "id": "3420d581-c794-40c8-904b-09c40b32ab48",
   "metadata": {
    "executionCancelledAt": null,
    "executionTime": 52,
    "lastExecutedAt": 1738438434118,
    "lastExecutedByKernel": "6a45df92-9f7c-4b0a-9559-e05206c0890b",
    "lastScheduledRunId": null,
    "lastSuccessfullyExecutedCode": "df_achievements[df_achievements['name'].str.contains('Day Streak')]",
    "outputsMetadata": {
     "0": {
      "height": 0,
      "tableState": {
       "quickFilterText": ""
      },
      "type": "dataFrame"
     }
    }
   },
   "outputs": [
    {
     "data": {
      "application/com.datacamp.data-table.v2+json": {
       "table": {
        "data": {
         "animated_image_url": [
          null,
          null,
          null,
          null,
          null,
          null,
          null,
          null
         ],
         "count": [
          64,
          26,
          19,
          10,
          4,
          3,
          2,
          1
         ],
         "description": [
          "Awarded for working out 3 days in a row.",
          "Awarded for working out 5 days in a row.",
          "Awarded for working out 7 days in a row.",
          "Awarded for working out 10 days in a row.",
          "Awarded for working out 20 days in a row.",
          "Awarded for working out 30 days in a row.",
          "Awarded for working out 45 days in a row.",
          "Awarded for working out 60 days in a row."
         ],
         "id": [
          "5298b832e2274ad59cf8857240440fb2",
          "013f0b69303d414ca2d73d1aacc04a0e",
          "ca11fdd59d6342809084532531f18ed9",
          "4dafabb0092b4870bff8ef393dc1acbe",
          "bca3ee6e99f24848aa8457eb6115c671",
          "dc9b61069ca04dbeaba9555199bc5cc6",
          "49cf39dbb14c41c5a2f6bf0f15046b7d",
          "529f22af30ba45a0a501b8542ad3b99c"
         ],
         "image_url": [
          "https://s3.amazonaws.com/peloton-achievement-images-prod/e1f81f8d2de249a194306af6eb0ebd20",
          "https://s3.amazonaws.com/peloton-achievement-images-prod/9f07b6bd16ca4d6cafbca3d1279bd947",
          "https://s3.amazonaws.com/peloton-achievement-images-prod/1edd4d87c62e4a9ea71a9a8213ab4bca",
          "https://s3.amazonaws.com/peloton-achievement-images-prod/a9878e37346b48c2aa756b344a4d5e96",
          "https://s3.amazonaws.com/peloton-achievement-images-prod/1a91b01001f04384915f56180c0140f8",
          "https://s3.amazonaws.com/peloton-achievement-images-prod/7930fec9707849cd910c1b30c739fbc1",
          "https://s3.amazonaws.com/peloton-achievement-images-prod/24e2305cef3c425ea38260dc37df2c14",
          "https://s3.amazonaws.com/peloton-achievement-images-prod/a0d751ef1948429db1d14dba8de93c80"
         ],
         "index": [
          98,
          99,
          100,
          101,
          102,
          103,
          104,
          105
         ],
         "kinetic_token_background": [
          null,
          null,
          null,
          null,
          null,
          null,
          null,
          null
         ],
         "name": [
          "3-Day Streak",
          "5-Day Streak",
          "7-Day Streak",
          "10-Day Streak",
          "20-Day Streak",
          "30-Day Streak",
          "45-Day Streak",
          "60-Day Streak"
         ],
         "slug": [
          "3_day_streak",
          "5_day_streak",
          "7_day_streak",
          "10_day_streak",
          "20_day_streak",
          "30_day_streak",
          "45_day_streak",
          "60_day_streak"
         ]
        },
        "schema": {
         "fields": [
          {
           "name": "index",
           "type": "integer"
          },
          {
           "name": "count",
           "type": "integer"
          },
          {
           "name": "id",
           "type": "string"
          },
          {
           "name": "name",
           "type": "string"
          },
          {
           "name": "slug",
           "type": "string"
          },
          {
           "name": "image_url",
           "type": "string"
          },
          {
           "name": "description",
           "type": "string"
          },
          {
           "name": "animated_image_url",
           "type": "string"
          },
          {
           "name": "kinetic_token_background",
           "type": "string"
          }
         ],
         "pandas_version": "1.4.0",
         "primaryKey": [
          "index"
         ]
        }
       },
       "total_rows": 8,
       "truncation_type": null
      },
      "text/html": [
       "<div>\n",
       "<style scoped>\n",
       "    .dataframe tbody tr th:only-of-type {\n",
       "        vertical-align: middle;\n",
       "    }\n",
       "\n",
       "    .dataframe tbody tr th {\n",
       "        vertical-align: top;\n",
       "    }\n",
       "\n",
       "    .dataframe thead th {\n",
       "        text-align: right;\n",
       "    }\n",
       "</style>\n",
       "<table border=\"1\" class=\"dataframe\">\n",
       "  <thead>\n",
       "    <tr style=\"text-align: right;\">\n",
       "      <th></th>\n",
       "      <th>count</th>\n",
       "      <th>id</th>\n",
       "      <th>name</th>\n",
       "      <th>slug</th>\n",
       "      <th>image_url</th>\n",
       "      <th>description</th>\n",
       "      <th>animated_image_url</th>\n",
       "      <th>kinetic_token_background</th>\n",
       "    </tr>\n",
       "  </thead>\n",
       "  <tbody>\n",
       "    <tr>\n",
       "      <th>98</th>\n",
       "      <td>64</td>\n",
       "      <td>5298b832e2274ad59cf8857240440fb2</td>\n",
       "      <td>3-Day Streak</td>\n",
       "      <td>3_day_streak</td>\n",
       "      <td>https://s3.amazonaws.com/peloton-achievement-i...</td>\n",
       "      <td>Awarded for working out 3 days in a row.</td>\n",
       "      <td>None</td>\n",
       "      <td>None</td>\n",
       "    </tr>\n",
       "    <tr>\n",
       "      <th>99</th>\n",
       "      <td>26</td>\n",
       "      <td>013f0b69303d414ca2d73d1aacc04a0e</td>\n",
       "      <td>5-Day Streak</td>\n",
       "      <td>5_day_streak</td>\n",
       "      <td>https://s3.amazonaws.com/peloton-achievement-i...</td>\n",
       "      <td>Awarded for working out 5 days in a row.</td>\n",
       "      <td>None</td>\n",
       "      <td>None</td>\n",
       "    </tr>\n",
       "    <tr>\n",
       "      <th>100</th>\n",
       "      <td>19</td>\n",
       "      <td>ca11fdd59d6342809084532531f18ed9</td>\n",
       "      <td>7-Day Streak</td>\n",
       "      <td>7_day_streak</td>\n",
       "      <td>https://s3.amazonaws.com/peloton-achievement-i...</td>\n",
       "      <td>Awarded for working out 7 days in a row.</td>\n",
       "      <td>None</td>\n",
       "      <td>None</td>\n",
       "    </tr>\n",
       "    <tr>\n",
       "      <th>101</th>\n",
       "      <td>10</td>\n",
       "      <td>4dafabb0092b4870bff8ef393dc1acbe</td>\n",
       "      <td>10-Day Streak</td>\n",
       "      <td>10_day_streak</td>\n",
       "      <td>https://s3.amazonaws.com/peloton-achievement-i...</td>\n",
       "      <td>Awarded for working out 10 days in a row.</td>\n",
       "      <td>None</td>\n",
       "      <td>None</td>\n",
       "    </tr>\n",
       "    <tr>\n",
       "      <th>102</th>\n",
       "      <td>4</td>\n",
       "      <td>bca3ee6e99f24848aa8457eb6115c671</td>\n",
       "      <td>20-Day Streak</td>\n",
       "      <td>20_day_streak</td>\n",
       "      <td>https://s3.amazonaws.com/peloton-achievement-i...</td>\n",
       "      <td>Awarded for working out 20 days in a row.</td>\n",
       "      <td>None</td>\n",
       "      <td>None</td>\n",
       "    </tr>\n",
       "    <tr>\n",
       "      <th>103</th>\n",
       "      <td>3</td>\n",
       "      <td>dc9b61069ca04dbeaba9555199bc5cc6</td>\n",
       "      <td>30-Day Streak</td>\n",
       "      <td>30_day_streak</td>\n",
       "      <td>https://s3.amazonaws.com/peloton-achievement-i...</td>\n",
       "      <td>Awarded for working out 30 days in a row.</td>\n",
       "      <td>None</td>\n",
       "      <td>None</td>\n",
       "    </tr>\n",
       "    <tr>\n",
       "      <th>104</th>\n",
       "      <td>2</td>\n",
       "      <td>49cf39dbb14c41c5a2f6bf0f15046b7d</td>\n",
       "      <td>45-Day Streak</td>\n",
       "      <td>45_day_streak</td>\n",
       "      <td>https://s3.amazonaws.com/peloton-achievement-i...</td>\n",
       "      <td>Awarded for working out 45 days in a row.</td>\n",
       "      <td>None</td>\n",
       "      <td>None</td>\n",
       "    </tr>\n",
       "    <tr>\n",
       "      <th>105</th>\n",
       "      <td>1</td>\n",
       "      <td>529f22af30ba45a0a501b8542ad3b99c</td>\n",
       "      <td>60-Day Streak</td>\n",
       "      <td>60_day_streak</td>\n",
       "      <td>https://s3.amazonaws.com/peloton-achievement-i...</td>\n",
       "      <td>Awarded for working out 60 days in a row.</td>\n",
       "      <td>None</td>\n",
       "      <td>None</td>\n",
       "    </tr>\n",
       "  </tbody>\n",
       "</table>\n",
       "</div>"
      ],
      "text/plain": [
       "     count  ... kinetic_token_background\n",
       "98      64  ...                     None\n",
       "99      26  ...                     None\n",
       "100     19  ...                     None\n",
       "101     10  ...                     None\n",
       "102      4  ...                     None\n",
       "103      3  ...                     None\n",
       "104      2  ...                     None\n",
       "105      1  ...                     None\n",
       "\n",
       "[8 rows x 8 columns]"
      ]
     },
     "execution_count": 129,
     "metadata": {
      "application/com.datacamp.data-table.v2+json": {
       "status": "success"
      }
     },
     "output_type": "execute_result"
    }
   ],
   "source": [
    "df_achievements[df_achievements['name'].str.contains('Day Streak')]"
   ]
  },
  {
   "cell_type": "markdown",
   "id": "b489aae4-4645-40d0-b351-ba45651b3c88",
   "metadata": {},
   "source": [
    "Lastly my workout count indicates a good balance of cycling, stretching, and strength workouts. However, there's room for improvement, for example, by incorporating more yoga classes."
   ]
  },
  {
   "cell_type": "code",
   "execution_count": 123,
   "id": "fbed7a97-3455-402c-a612-69e8f7891b83",
   "metadata": {
    "executionCancelledAt": null,
    "executionTime": 23,
    "lastExecutedAt": 1738437904565,
    "lastExecutedByKernel": "6a45df92-9f7c-4b0a-9559-e05206c0890b",
    "lastScheduledRunId": null,
    "lastSuccessfullyExecutedCode": "df_workout_counts",
    "outputsMetadata": {
     "0": {
      "height": 0,
      "tableState": {
       "quickFilterText": ""
      },
      "type": "dataFrame"
     }
    }
   },
   "outputs": [
    {
     "data": {
      "application/com.datacamp.data-table.v2+json": {
       "table": {
        "data": {
         "count": [
          749,
          473,
          394,
          66,
          31,
          23,
          17,
          10,
          1,
          1,
          0,
          0
         ],
         "icon_url": [
          "https://s3.amazonaws.com/static-cdn.pelotoncycle.com/workout-count-icons/nonzero-cycling2.png",
          "https://s3.amazonaws.com/static-cdn.pelotoncycle.com/workout-count-icons/nonzero-stretching2.png",
          "https://s3.amazonaws.com/static-cdn.pelotoncycle.com/workout-count-icons/nonzero-strength2.png",
          "https://s3.amazonaws.com/static-cdn.pelotoncycle.com/workout-count-icons/nonzero-walking2.png",
          "https://s3.amazonaws.com/static-cdn.pelotoncycle.com/workout-count-icons/nonzero-caesar2.png",
          "https://s3.amazonaws.com/static-cdn.pelotoncycle.com/workout-count-icons/nonzero-meditation2.png",
          "https://s3.amazonaws.com/static-cdn.pelotoncycle.com/workout-count-icons/nonzero-cardio2.png",
          "https://s3.amazonaws.com/static-cdn.pelotoncycle.com/workout-count-icons/nonzero-running2.png",
          "https://s3.amazonaws.com/static-cdn.pelotoncycle.com/workout-count-icons/nonzero-bike_bootcamp2.png",
          "https://s3.amazonaws.com/static-cdn.pelotoncycle.com/workout-count-icons/nonzero-yoga2.png",
          "https://s3.amazonaws.com/static-cdn.pelotoncycle.com/workout-count-icons/zero-caesar_bootcamp2.png",
          "https://s3.amazonaws.com/static-cdn.pelotoncycle.com/workout-count-icons/zero-circuit2.png"
         ],
         "index": [
          0,
          1,
          2,
          3,
          4,
          5,
          6,
          7,
          8,
          9,
          10,
          11
         ],
         "name": [
          "Cycling",
          "Stretching",
          "Strength",
          "Walking",
          "Rowing",
          "Meditation",
          "Cardio",
          "Running",
          "Bike Bootcamp",
          "Yoga",
          "Row Bootcamp",
          "Tread Bootcamp"
         ],
         "slug": [
          "cycling",
          "stretching",
          "strength",
          "walking",
          "caesar",
          "meditation",
          "cardio",
          "running",
          "bike_bootcamp",
          "yoga",
          "caesar_bootcamp",
          "circuit"
         ],
         "workout_name": [
          "Cycling",
          "Stretching",
          "Strength",
          "Walking",
          "Rowing",
          "Meditation",
          "Cardio",
          "Running",
          "Bike Bootcamp",
          "Yoga",
          "Row Bootcamp",
          "Tread Bootcamp"
         ]
        },
        "schema": {
         "fields": [
          {
           "name": "index",
           "type": "integer"
          },
          {
           "name": "name",
           "type": "string"
          },
          {
           "name": "slug",
           "type": "string"
          },
          {
           "name": "count",
           "type": "integer"
          },
          {
           "name": "icon_url",
           "type": "string"
          },
          {
           "name": "workout_name",
           "type": "string"
          }
         ],
         "pandas_version": "1.4.0",
         "primaryKey": [
          "index"
         ]
        }
       },
       "total_rows": 12,
       "truncation_type": null
      },
      "text/html": [
       "<div>\n",
       "<style scoped>\n",
       "    .dataframe tbody tr th:only-of-type {\n",
       "        vertical-align: middle;\n",
       "    }\n",
       "\n",
       "    .dataframe tbody tr th {\n",
       "        vertical-align: top;\n",
       "    }\n",
       "\n",
       "    .dataframe thead th {\n",
       "        text-align: right;\n",
       "    }\n",
       "</style>\n",
       "<table border=\"1\" class=\"dataframe\">\n",
       "  <thead>\n",
       "    <tr style=\"text-align: right;\">\n",
       "      <th></th>\n",
       "      <th>name</th>\n",
       "      <th>slug</th>\n",
       "      <th>count</th>\n",
       "      <th>icon_url</th>\n",
       "      <th>workout_name</th>\n",
       "    </tr>\n",
       "  </thead>\n",
       "  <tbody>\n",
       "    <tr>\n",
       "      <th>0</th>\n",
       "      <td>Cycling</td>\n",
       "      <td>cycling</td>\n",
       "      <td>749</td>\n",
       "      <td>https://s3.amazonaws.com/static-cdn.pelotoncyc...</td>\n",
       "      <td>Cycling</td>\n",
       "    </tr>\n",
       "    <tr>\n",
       "      <th>1</th>\n",
       "      <td>Stretching</td>\n",
       "      <td>stretching</td>\n",
       "      <td>473</td>\n",
       "      <td>https://s3.amazonaws.com/static-cdn.pelotoncyc...</td>\n",
       "      <td>Stretching</td>\n",
       "    </tr>\n",
       "    <tr>\n",
       "      <th>2</th>\n",
       "      <td>Strength</td>\n",
       "      <td>strength</td>\n",
       "      <td>394</td>\n",
       "      <td>https://s3.amazonaws.com/static-cdn.pelotoncyc...</td>\n",
       "      <td>Strength</td>\n",
       "    </tr>\n",
       "    <tr>\n",
       "      <th>3</th>\n",
       "      <td>Walking</td>\n",
       "      <td>walking</td>\n",
       "      <td>66</td>\n",
       "      <td>https://s3.amazonaws.com/static-cdn.pelotoncyc...</td>\n",
       "      <td>Walking</td>\n",
       "    </tr>\n",
       "    <tr>\n",
       "      <th>4</th>\n",
       "      <td>Rowing</td>\n",
       "      <td>caesar</td>\n",
       "      <td>31</td>\n",
       "      <td>https://s3.amazonaws.com/static-cdn.pelotoncyc...</td>\n",
       "      <td>Rowing</td>\n",
       "    </tr>\n",
       "    <tr>\n",
       "      <th>5</th>\n",
       "      <td>Meditation</td>\n",
       "      <td>meditation</td>\n",
       "      <td>23</td>\n",
       "      <td>https://s3.amazonaws.com/static-cdn.pelotoncyc...</td>\n",
       "      <td>Meditation</td>\n",
       "    </tr>\n",
       "    <tr>\n",
       "      <th>6</th>\n",
       "      <td>Cardio</td>\n",
       "      <td>cardio</td>\n",
       "      <td>17</td>\n",
       "      <td>https://s3.amazonaws.com/static-cdn.pelotoncyc...</td>\n",
       "      <td>Cardio</td>\n",
       "    </tr>\n",
       "    <tr>\n",
       "      <th>7</th>\n",
       "      <td>Running</td>\n",
       "      <td>running</td>\n",
       "      <td>10</td>\n",
       "      <td>https://s3.amazonaws.com/static-cdn.pelotoncyc...</td>\n",
       "      <td>Running</td>\n",
       "    </tr>\n",
       "    <tr>\n",
       "      <th>8</th>\n",
       "      <td>Bike Bootcamp</td>\n",
       "      <td>bike_bootcamp</td>\n",
       "      <td>1</td>\n",
       "      <td>https://s3.amazonaws.com/static-cdn.pelotoncyc...</td>\n",
       "      <td>Bike Bootcamp</td>\n",
       "    </tr>\n",
       "    <tr>\n",
       "      <th>9</th>\n",
       "      <td>Yoga</td>\n",
       "      <td>yoga</td>\n",
       "      <td>1</td>\n",
       "      <td>https://s3.amazonaws.com/static-cdn.pelotoncyc...</td>\n",
       "      <td>Yoga</td>\n",
       "    </tr>\n",
       "    <tr>\n",
       "      <th>10</th>\n",
       "      <td>Row Bootcamp</td>\n",
       "      <td>caesar_bootcamp</td>\n",
       "      <td>0</td>\n",
       "      <td>https://s3.amazonaws.com/static-cdn.pelotoncyc...</td>\n",
       "      <td>Row Bootcamp</td>\n",
       "    </tr>\n",
       "    <tr>\n",
       "      <th>11</th>\n",
       "      <td>Tread Bootcamp</td>\n",
       "      <td>circuit</td>\n",
       "      <td>0</td>\n",
       "      <td>https://s3.amazonaws.com/static-cdn.pelotoncyc...</td>\n",
       "      <td>Tread Bootcamp</td>\n",
       "    </tr>\n",
       "  </tbody>\n",
       "</table>\n",
       "</div>"
      ],
      "text/plain": [
       "              name  ...    workout_name\n",
       "0          Cycling  ...         Cycling\n",
       "1       Stretching  ...      Stretching\n",
       "2         Strength  ...        Strength\n",
       "3          Walking  ...         Walking\n",
       "4           Rowing  ...          Rowing\n",
       "5       Meditation  ...      Meditation\n",
       "6           Cardio  ...          Cardio\n",
       "7          Running  ...         Running\n",
       "8    Bike Bootcamp  ...   Bike Bootcamp\n",
       "9             Yoga  ...            Yoga\n",
       "10    Row Bootcamp  ...    Row Bootcamp\n",
       "11  Tread Bootcamp  ...  Tread Bootcamp\n",
       "\n",
       "[12 rows x 5 columns]"
      ]
     },
     "execution_count": 123,
     "metadata": {
      "application/com.datacamp.data-table.v2+json": {
       "status": "success"
      }
     },
     "output_type": "execute_result"
    }
   ],
   "source": [
    "df_workout_counts"
   ]
  }
 ],
 "metadata": {
  "colab": {
   "name": "Welcome to DataCamp Workspaces.ipynb",
   "provenance": []
  },
  "kernelspec": {
   "display_name": "Python 3 (ipykernel)",
   "language": "python",
   "name": "python3"
  },
  "language_info": {
   "codemirror_mode": {
    "name": "ipython",
    "version": 3
   },
   "file_extension": ".py",
   "mimetype": "text/x-python",
   "name": "python",
   "nbconvert_exporter": "python",
   "pygments_lexer": "ipython3",
   "version": "3.10.12"
  }
 },
 "nbformat": 4,
 "nbformat_minor": 5
}
